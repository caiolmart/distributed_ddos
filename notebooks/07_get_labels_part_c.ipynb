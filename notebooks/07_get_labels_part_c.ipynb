{
 "cells": [
  {
   "cell_type": "code",
   "execution_count": 1,
   "metadata": {},
   "outputs": [],
   "source": [
    "import pandas as pd\n",
    "import numpy as np\n",
    "from collections import defaultdict\n",
    "from datetime import datetime, timedelta\n",
    "import pickle"
   ]
  },
  {
   "cell_type": "code",
   "execution_count": 2,
   "metadata": {},
   "outputs": [],
   "source": [
    "files = [\n",
    "    'DrDoS_NTP.csv',\n",
    "    'DrDoS_DNS.csv',\n",
    "    'DrDoS_LDAP.csv',\n",
    "    'DrDoS_MSSQL.csv',\n",
    "    'DrDoS_NetBIOS.csv',\n",
    "    'DrDoS_SNMP.csv',\n",
    "    'DrDoS_SSDP.csv',\n",
    "    'DrDoS_UDP.csv',\n",
    "    'UDPLag.csv',\n",
    "    'Syn.csv',\n",
    "    'TFTP.csv',\n",
    "]"
   ]
  },
  {
   "cell_type": "markdown",
   "metadata": {},
   "source": [
    "## Only NTP"
   ]
  },
  {
   "cell_type": "code",
   "execution_count": 5,
   "metadata": {},
   "outputs": [
    {
     "name": "stderr",
     "output_type": "stream",
     "text": [
      "/home/caiolmart/.local/lib/python3.8/site-packages/IPython/core/interactiveshell.py:3062: DtypeWarning: Columns (85) have mixed types.Specify dtype option on import or set low_memory=False.\n",
      "  has_raised = await self.run_ast_nodes(code_ast.body, cell_name,\n"
     ]
    },
    {
     "name": "stdout",
     "output_type": "stream",
     "text": [
      "(1217007, 88)\n"
     ]
    },
    {
     "data": {
      "text/html": [
       "<div>\n",
       "<style scoped>\n",
       "    .dataframe tbody tr th:only-of-type {\n",
       "        vertical-align: middle;\n",
       "    }\n",
       "\n",
       "    .dataframe tbody tr th {\n",
       "        vertical-align: top;\n",
       "    }\n",
       "\n",
       "    .dataframe thead th {\n",
       "        text-align: right;\n",
       "    }\n",
       "</style>\n",
       "<table border=\"1\" class=\"dataframe\">\n",
       "  <thead>\n",
       "    <tr style=\"text-align: right;\">\n",
       "      <th></th>\n",
       "      <th>Unnamed: 0</th>\n",
       "      <th>Flow ID</th>\n",
       "      <th>Source IP</th>\n",
       "      <th>Source Port</th>\n",
       "      <th>Destination IP</th>\n",
       "      <th>Destination Port</th>\n",
       "      <th>Protocol</th>\n",
       "      <th>Timestamp</th>\n",
       "      <th>Flow Duration</th>\n",
       "      <th>Total Fwd Packets</th>\n",
       "      <th>...</th>\n",
       "      <th>Active Std</th>\n",
       "      <th>Active Max</th>\n",
       "      <th>Active Min</th>\n",
       "      <th>Idle Mean</th>\n",
       "      <th>Idle Std</th>\n",
       "      <th>Idle Max</th>\n",
       "      <th>Idle Min</th>\n",
       "      <th>SimillarHTTP</th>\n",
       "      <th>Inbound</th>\n",
       "      <th>Label</th>\n",
       "    </tr>\n",
       "  </thead>\n",
       "  <tbody>\n",
       "    <tr>\n",
       "      <th>0</th>\n",
       "      <td>0</td>\n",
       "      <td>172.16.0.5-192.168.50.1-60675-80-6</td>\n",
       "      <td>172.16.0.5</td>\n",
       "      <td>60675</td>\n",
       "      <td>192.168.50.1</td>\n",
       "      <td>80</td>\n",
       "      <td>6</td>\n",
       "      <td>2018-12-01 09:17:11.183810</td>\n",
       "      <td>5220876</td>\n",
       "      <td>12</td>\n",
       "      <td>...</td>\n",
       "      <td>0.000000</td>\n",
       "      <td>0.0</td>\n",
       "      <td>0.0</td>\n",
       "      <td>0.0</td>\n",
       "      <td>0.000000</td>\n",
       "      <td>0.0</td>\n",
       "      <td>0.0</td>\n",
       "      <td>205.174.165.72/c.php</td>\n",
       "      <td>1</td>\n",
       "      <td>DrDoS_NTP</td>\n",
       "    </tr>\n",
       "    <tr>\n",
       "      <th>1</th>\n",
       "      <td>7</td>\n",
       "      <td>172.16.0.5-192.168.50.1-60676-80-6</td>\n",
       "      <td>172.16.0.5</td>\n",
       "      <td>60676</td>\n",
       "      <td>192.168.50.1</td>\n",
       "      <td>80</td>\n",
       "      <td>6</td>\n",
       "      <td>2018-12-01 09:17:11.205636</td>\n",
       "      <td>12644252</td>\n",
       "      <td>5</td>\n",
       "      <td>...</td>\n",
       "      <td>0.000000</td>\n",
       "      <td>0.0</td>\n",
       "      <td>0.0</td>\n",
       "      <td>0.0</td>\n",
       "      <td>0.000000</td>\n",
       "      <td>0.0</td>\n",
       "      <td>0.0</td>\n",
       "      <td>0</td>\n",
       "      <td>1</td>\n",
       "      <td>DrDoS_NTP</td>\n",
       "    </tr>\n",
       "    <tr>\n",
       "      <th>2</th>\n",
       "      <td>12858</td>\n",
       "      <td>192.168.50.7-65.55.163.78-50458-443-6</td>\n",
       "      <td>65.55.163.78</td>\n",
       "      <td>443</td>\n",
       "      <td>192.168.50.7</td>\n",
       "      <td>50458</td>\n",
       "      <td>6</td>\n",
       "      <td>2018-12-01 09:17:12.634569</td>\n",
       "      <td>3</td>\n",
       "      <td>2</td>\n",
       "      <td>...</td>\n",
       "      <td>0.000000</td>\n",
       "      <td>0.0</td>\n",
       "      <td>0.0</td>\n",
       "      <td>0.0</td>\n",
       "      <td>0.000000</td>\n",
       "      <td>0.0</td>\n",
       "      <td>0.0</td>\n",
       "      <td>0</td>\n",
       "      <td>1</td>\n",
       "      <td>BENIGN</td>\n",
       "    </tr>\n",
       "    <tr>\n",
       "      <th>3</th>\n",
       "      <td>10191</td>\n",
       "      <td>192.168.50.7-65.55.163.78-50465-443-6</td>\n",
       "      <td>65.55.163.78</td>\n",
       "      <td>443</td>\n",
       "      <td>192.168.50.7</td>\n",
       "      <td>50465</td>\n",
       "      <td>6</td>\n",
       "      <td>2018-12-01 09:17:13.458370</td>\n",
       "      <td>3</td>\n",
       "      <td>2</td>\n",
       "      <td>...</td>\n",
       "      <td>0.000000</td>\n",
       "      <td>0.0</td>\n",
       "      <td>0.0</td>\n",
       "      <td>0.0</td>\n",
       "      <td>0.000000</td>\n",
       "      <td>0.0</td>\n",
       "      <td>0.0</td>\n",
       "      <td>0</td>\n",
       "      <td>1</td>\n",
       "      <td>BENIGN</td>\n",
       "    </tr>\n",
       "    <tr>\n",
       "      <th>4</th>\n",
       "      <td>239</td>\n",
       "      <td>192.168.50.253-224.0.0.5-0-0-0</td>\n",
       "      <td>192.168.50.253</td>\n",
       "      <td>0</td>\n",
       "      <td>224.0.0.5</td>\n",
       "      <td>0</td>\n",
       "      <td>0</td>\n",
       "      <td>2018-12-01 09:17:13.470913</td>\n",
       "      <td>114329232</td>\n",
       "      <td>52</td>\n",
       "      <td>...</td>\n",
       "      <td>2.466441</td>\n",
       "      <td>15.0</td>\n",
       "      <td>6.0</td>\n",
       "      <td>9527428.0</td>\n",
       "      <td>248706.681286</td>\n",
       "      <td>9950741.0</td>\n",
       "      <td>9092248.0</td>\n",
       "      <td>0</td>\n",
       "      <td>0</td>\n",
       "      <td>BENIGN</td>\n",
       "    </tr>\n",
       "  </tbody>\n",
       "</table>\n",
       "<p>5 rows × 88 columns</p>\n",
       "</div>"
      ],
      "text/plain": [
       "   Unnamed: 0                                Flow ID       Source IP  \\\n",
       "0           0     172.16.0.5-192.168.50.1-60675-80-6      172.16.0.5   \n",
       "1           7     172.16.0.5-192.168.50.1-60676-80-6      172.16.0.5   \n",
       "2       12858  192.168.50.7-65.55.163.78-50458-443-6    65.55.163.78   \n",
       "3       10191  192.168.50.7-65.55.163.78-50465-443-6    65.55.163.78   \n",
       "4         239         192.168.50.253-224.0.0.5-0-0-0  192.168.50.253   \n",
       "\n",
       "   Source Port Destination IP  Destination Port  Protocol  \\\n",
       "0        60675   192.168.50.1                80         6   \n",
       "1        60676   192.168.50.1                80         6   \n",
       "2          443   192.168.50.7             50458         6   \n",
       "3          443   192.168.50.7             50465         6   \n",
       "4            0      224.0.0.5                 0         0   \n",
       "\n",
       "                    Timestamp  Flow Duration  Total Fwd Packets  ...  \\\n",
       "0  2018-12-01 09:17:11.183810        5220876                 12  ...   \n",
       "1  2018-12-01 09:17:11.205636       12644252                  5  ...   \n",
       "2  2018-12-01 09:17:12.634569              3                  2  ...   \n",
       "3  2018-12-01 09:17:13.458370              3                  2  ...   \n",
       "4  2018-12-01 09:17:13.470913      114329232                 52  ...   \n",
       "\n",
       "   Active Std  Active Max  Active Min  Idle Mean       Idle Std   Idle Max  \\\n",
       "0    0.000000         0.0         0.0        0.0       0.000000        0.0   \n",
       "1    0.000000         0.0         0.0        0.0       0.000000        0.0   \n",
       "2    0.000000         0.0         0.0        0.0       0.000000        0.0   \n",
       "3    0.000000         0.0         0.0        0.0       0.000000        0.0   \n",
       "4    2.466441        15.0         6.0  9527428.0  248706.681286  9950741.0   \n",
       "\n",
       "    Idle Min          SimillarHTTP  Inbound      Label  \n",
       "0        0.0  205.174.165.72/c.php        1  DrDoS_NTP  \n",
       "1        0.0                     0        1  DrDoS_NTP  \n",
       "2        0.0                     0        1     BENIGN  \n",
       "3        0.0                     0        1     BENIGN  \n",
       "4  9092248.0                     0        0     BENIGN  \n",
       "\n",
       "[5 rows x 88 columns]"
      ]
     },
     "execution_count": 5,
     "metadata": {},
     "output_type": "execute_result"
    }
   ],
   "source": [
    "data = pd.read_csv(f'../data/raw/csv/01-12/{files[0]}')\n",
    "data.columns = [x.strip() for x in data.columns]\n",
    "print(data.shape)\n",
    "data.head()"
   ]
  },
  {
   "cell_type": "code",
   "execution_count": 25,
   "metadata": {},
   "outputs": [
    {
     "name": "stdout",
     "output_type": "stream",
     "text": [
      "(1118, 5)\n"
     ]
    },
    {
     "data": {
      "text/html": [
       "<div>\n",
       "<style scoped>\n",
       "    .dataframe tbody tr th:only-of-type {\n",
       "        vertical-align: middle;\n",
       "    }\n",
       "\n",
       "    .dataframe tbody tr th {\n",
       "        vertical-align: top;\n",
       "    }\n",
       "\n",
       "    .dataframe thead tr th {\n",
       "        text-align: left;\n",
       "    }\n",
       "</style>\n",
       "<table border=\"1\" class=\"dataframe\">\n",
       "  <thead>\n",
       "    <tr>\n",
       "      <th></th>\n",
       "      <th>Source IP</th>\n",
       "      <th>Destination IP</th>\n",
       "      <th>Label</th>\n",
       "      <th colspan=\"2\" halign=\"left\">Timestamp</th>\n",
       "    </tr>\n",
       "    <tr>\n",
       "      <th></th>\n",
       "      <th></th>\n",
       "      <th></th>\n",
       "      <th></th>\n",
       "      <th>min</th>\n",
       "      <th>max</th>\n",
       "    </tr>\n",
       "  </thead>\n",
       "  <tbody>\n",
       "    <tr>\n",
       "      <th>0</th>\n",
       "      <td>0.0.0.0</td>\n",
       "      <td>255.255.255.255</td>\n",
       "      <td>BENIGN</td>\n",
       "      <td>2018-12-01 09:18:30.010736</td>\n",
       "      <td>2018-12-01 10:48:30.146543</td>\n",
       "    </tr>\n",
       "    <tr>\n",
       "      <th>1</th>\n",
       "      <td>104.117.0.160</td>\n",
       "      <td>192.168.50.7</td>\n",
       "      <td>BENIGN</td>\n",
       "      <td>2018-12-01 10:04:27.720354</td>\n",
       "      <td>2018-12-01 10:04:27.720354</td>\n",
       "    </tr>\n",
       "    <tr>\n",
       "      <th>2</th>\n",
       "      <td>104.118.6.139</td>\n",
       "      <td>192.168.50.7</td>\n",
       "      <td>BENIGN</td>\n",
       "      <td>2018-12-01 10:17:04.647026</td>\n",
       "      <td>2018-12-01 10:17:04.647026</td>\n",
       "    </tr>\n",
       "    <tr>\n",
       "      <th>3</th>\n",
       "      <td>104.18.58.178</td>\n",
       "      <td>192.168.50.7</td>\n",
       "      <td>BENIGN</td>\n",
       "      <td>2018-12-01 10:14:09.655233</td>\n",
       "      <td>2018-12-01 10:14:55.627975</td>\n",
       "    </tr>\n",
       "    <tr>\n",
       "      <th>4</th>\n",
       "      <td>104.18.58.178</td>\n",
       "      <td>192.168.50.8</td>\n",
       "      <td>BENIGN</td>\n",
       "      <td>2018-12-01 09:43:32.899697</td>\n",
       "      <td>2018-12-01 09:43:32.899697</td>\n",
       "    </tr>\n",
       "  </tbody>\n",
       "</table>\n",
       "</div>"
      ],
      "text/plain": [
       "       Source IP   Destination IP   Label                   Timestamp  \\\n",
       "                                                                  min   \n",
       "0        0.0.0.0  255.255.255.255  BENIGN  2018-12-01 09:18:30.010736   \n",
       "1  104.117.0.160     192.168.50.7  BENIGN  2018-12-01 10:04:27.720354   \n",
       "2  104.118.6.139     192.168.50.7  BENIGN  2018-12-01 10:17:04.647026   \n",
       "3  104.18.58.178     192.168.50.7  BENIGN  2018-12-01 10:14:09.655233   \n",
       "4  104.18.58.178     192.168.50.8  BENIGN  2018-12-01 09:43:32.899697   \n",
       "\n",
       "                               \n",
       "                          max  \n",
       "0  2018-12-01 10:48:30.146543  \n",
       "1  2018-12-01 10:04:27.720354  \n",
       "2  2018-12-01 10:17:04.647026  \n",
       "3  2018-12-01 10:14:55.627975  \n",
       "4  2018-12-01 09:43:32.899697  "
      ]
     },
     "execution_count": 25,
     "metadata": {},
     "output_type": "execute_result"
    }
   ],
   "source": [
    "group = data.groupby(['Source IP', 'Destination IP', 'Label']).agg({'Timestamp': ['min', 'max']}).reset_index()\n",
    "print(group.shape)\n",
    "group.head()"
   ]
  },
  {
   "cell_type": "code",
   "execution_count": 27,
   "metadata": {},
   "outputs": [
    {
     "data": {
      "text/html": [
       "<div>\n",
       "<style scoped>\n",
       "    .dataframe tbody tr th:only-of-type {\n",
       "        vertical-align: middle;\n",
       "    }\n",
       "\n",
       "    .dataframe tbody tr th {\n",
       "        vertical-align: top;\n",
       "    }\n",
       "\n",
       "    .dataframe thead tr th {\n",
       "        text-align: left;\n",
       "    }\n",
       "</style>\n",
       "<table border=\"1\" class=\"dataframe\">\n",
       "  <thead>\n",
       "    <tr>\n",
       "      <th></th>\n",
       "      <th>Source IP</th>\n",
       "      <th>Destination IP</th>\n",
       "      <th>Label</th>\n",
       "      <th colspan=\"2\" halign=\"left\">Timestamp</th>\n",
       "    </tr>\n",
       "    <tr>\n",
       "      <th></th>\n",
       "      <th></th>\n",
       "      <th></th>\n",
       "      <th></th>\n",
       "      <th>min</th>\n",
       "      <th>max</th>\n",
       "    </tr>\n",
       "  </thead>\n",
       "  <tbody>\n",
       "    <tr>\n",
       "      <th>30</th>\n",
       "      <td>172.16.0.5</td>\n",
       "      <td>192.168.50.1</td>\n",
       "      <td>DrDoS_NTP</td>\n",
       "      <td>2018-12-01 09:17:11.183810</td>\n",
       "      <td>2018-12-01 10:51:39.778786</td>\n",
       "    </tr>\n",
       "    <tr>\n",
       "      <th>248</th>\n",
       "      <td>192.168.50.1</td>\n",
       "      <td>172.16.0.5</td>\n",
       "      <td>DrDoS_NTP</td>\n",
       "      <td>2018-12-01 09:17:16.404689</td>\n",
       "      <td>2018-12-01 10:51:38.825113</td>\n",
       "    </tr>\n",
       "  </tbody>\n",
       "</table>\n",
       "</div>"
      ],
      "text/plain": [
       "        Source IP Destination IP      Label                   Timestamp  \\\n",
       "                                                                    min   \n",
       "30     172.16.0.5   192.168.50.1  DrDoS_NTP  2018-12-01 09:17:11.183810   \n",
       "248  192.168.50.1     172.16.0.5  DrDoS_NTP  2018-12-01 09:17:16.404689   \n",
       "\n",
       "                                 \n",
       "                            max  \n",
       "30   2018-12-01 10:51:39.778786  \n",
       "248  2018-12-01 10:51:38.825113  "
      ]
     },
     "execution_count": 27,
     "metadata": {},
     "output_type": "execute_result"
    }
   ],
   "source": [
    "group[group.Label == 'DrDoS_NTP']"
   ]
  },
  {
   "cell_type": "markdown",
   "metadata": {},
   "source": [
    "## Only DNS"
   ]
  },
  {
   "cell_type": "code",
   "execution_count": 28,
   "metadata": {},
   "outputs": [
    {
     "name": "stderr",
     "output_type": "stream",
     "text": [
      "/home/caiolmart/.local/lib/python3.8/site-packages/IPython/core/interactiveshell.py:3062: DtypeWarning: Columns (85) have mixed types.Specify dtype option on import or set low_memory=False.\n",
      "  has_raised = await self.run_ast_nodes(code_ast.body, cell_name,\n"
     ]
    },
    {
     "name": "stdout",
     "output_type": "stream",
     "text": [
      "(5074413, 88)\n"
     ]
    },
    {
     "data": {
      "text/html": [
       "<div>\n",
       "<style scoped>\n",
       "    .dataframe tbody tr th:only-of-type {\n",
       "        vertical-align: middle;\n",
       "    }\n",
       "\n",
       "    .dataframe tbody tr th {\n",
       "        vertical-align: top;\n",
       "    }\n",
       "\n",
       "    .dataframe thead th {\n",
       "        text-align: right;\n",
       "    }\n",
       "</style>\n",
       "<table border=\"1\" class=\"dataframe\">\n",
       "  <thead>\n",
       "    <tr style=\"text-align: right;\">\n",
       "      <th></th>\n",
       "      <th>Unnamed: 0</th>\n",
       "      <th>Flow ID</th>\n",
       "      <th>Source IP</th>\n",
       "      <th>Source Port</th>\n",
       "      <th>Destination IP</th>\n",
       "      <th>Destination Port</th>\n",
       "      <th>Protocol</th>\n",
       "      <th>Timestamp</th>\n",
       "      <th>Flow Duration</th>\n",
       "      <th>Total Fwd Packets</th>\n",
       "      <th>...</th>\n",
       "      <th>Active Std</th>\n",
       "      <th>Active Max</th>\n",
       "      <th>Active Min</th>\n",
       "      <th>Idle Mean</th>\n",
       "      <th>Idle Std</th>\n",
       "      <th>Idle Max</th>\n",
       "      <th>Idle Min</th>\n",
       "      <th>SimillarHTTP</th>\n",
       "      <th>Inbound</th>\n",
       "      <th>Label</th>\n",
       "    </tr>\n",
       "  </thead>\n",
       "  <tbody>\n",
       "    <tr>\n",
       "      <th>0</th>\n",
       "      <td>425</td>\n",
       "      <td>172.16.0.5-192.168.50.1-634-60495-17</td>\n",
       "      <td>172.16.0.5</td>\n",
       "      <td>634</td>\n",
       "      <td>192.168.50.1</td>\n",
       "      <td>60495</td>\n",
       "      <td>17</td>\n",
       "      <td>2018-12-01 10:51:39.813448</td>\n",
       "      <td>28415</td>\n",
       "      <td>97</td>\n",
       "      <td>...</td>\n",
       "      <td>0.0</td>\n",
       "      <td>0.0</td>\n",
       "      <td>0.0</td>\n",
       "      <td>0.0</td>\n",
       "      <td>0.0</td>\n",
       "      <td>0.0</td>\n",
       "      <td>0.0</td>\n",
       "      <td>0</td>\n",
       "      <td>1</td>\n",
       "      <td>DrDoS_DNS</td>\n",
       "    </tr>\n",
       "    <tr>\n",
       "      <th>1</th>\n",
       "      <td>430</td>\n",
       "      <td>172.16.0.5-192.168.50.1-60495-634-17</td>\n",
       "      <td>192.168.50.1</td>\n",
       "      <td>634</td>\n",
       "      <td>172.16.0.5</td>\n",
       "      <td>60495</td>\n",
       "      <td>17</td>\n",
       "      <td>2018-12-01 10:51:39.820842</td>\n",
       "      <td>2</td>\n",
       "      <td>2</td>\n",
       "      <td>...</td>\n",
       "      <td>0.0</td>\n",
       "      <td>0.0</td>\n",
       "      <td>0.0</td>\n",
       "      <td>0.0</td>\n",
       "      <td>0.0</td>\n",
       "      <td>0.0</td>\n",
       "      <td>0.0</td>\n",
       "      <td>0</td>\n",
       "      <td>0</td>\n",
       "      <td>DrDoS_DNS</td>\n",
       "    </tr>\n",
       "    <tr>\n",
       "      <th>2</th>\n",
       "      <td>1654</td>\n",
       "      <td>172.16.0.5-192.168.50.1-634-46391-17</td>\n",
       "      <td>172.16.0.5</td>\n",
       "      <td>634</td>\n",
       "      <td>192.168.50.1</td>\n",
       "      <td>46391</td>\n",
       "      <td>17</td>\n",
       "      <td>2018-12-01 10:51:39.852499</td>\n",
       "      <td>48549</td>\n",
       "      <td>200</td>\n",
       "      <td>...</td>\n",
       "      <td>0.0</td>\n",
       "      <td>0.0</td>\n",
       "      <td>0.0</td>\n",
       "      <td>0.0</td>\n",
       "      <td>0.0</td>\n",
       "      <td>0.0</td>\n",
       "      <td>0.0</td>\n",
       "      <td>0</td>\n",
       "      <td>1</td>\n",
       "      <td>DrDoS_DNS</td>\n",
       "    </tr>\n",
       "    <tr>\n",
       "      <th>3</th>\n",
       "      <td>2927</td>\n",
       "      <td>172.16.0.5-192.168.50.1-634-11894-17</td>\n",
       "      <td>172.16.0.5</td>\n",
       "      <td>634</td>\n",
       "      <td>192.168.50.1</td>\n",
       "      <td>11894</td>\n",
       "      <td>17</td>\n",
       "      <td>2018-12-01 10:51:39.890213</td>\n",
       "      <td>48337</td>\n",
       "      <td>200</td>\n",
       "      <td>...</td>\n",
       "      <td>0.0</td>\n",
       "      <td>0.0</td>\n",
       "      <td>0.0</td>\n",
       "      <td>0.0</td>\n",
       "      <td>0.0</td>\n",
       "      <td>0.0</td>\n",
       "      <td>0.0</td>\n",
       "      <td>0</td>\n",
       "      <td>1</td>\n",
       "      <td>DrDoS_DNS</td>\n",
       "    </tr>\n",
       "    <tr>\n",
       "      <th>4</th>\n",
       "      <td>694</td>\n",
       "      <td>172.16.0.5-192.168.50.1-634-27878-17</td>\n",
       "      <td>172.16.0.5</td>\n",
       "      <td>634</td>\n",
       "      <td>192.168.50.1</td>\n",
       "      <td>27878</td>\n",
       "      <td>17</td>\n",
       "      <td>2018-12-01 10:51:39.941151</td>\n",
       "      <td>32026</td>\n",
       "      <td>200</td>\n",
       "      <td>...</td>\n",
       "      <td>0.0</td>\n",
       "      <td>0.0</td>\n",
       "      <td>0.0</td>\n",
       "      <td>0.0</td>\n",
       "      <td>0.0</td>\n",
       "      <td>0.0</td>\n",
       "      <td>0.0</td>\n",
       "      <td>0</td>\n",
       "      <td>1</td>\n",
       "      <td>DrDoS_DNS</td>\n",
       "    </tr>\n",
       "  </tbody>\n",
       "</table>\n",
       "<p>5 rows × 88 columns</p>\n",
       "</div>"
      ],
      "text/plain": [
       "   Unnamed: 0                               Flow ID     Source IP  \\\n",
       "0         425  172.16.0.5-192.168.50.1-634-60495-17    172.16.0.5   \n",
       "1         430  172.16.0.5-192.168.50.1-60495-634-17  192.168.50.1   \n",
       "2        1654  172.16.0.5-192.168.50.1-634-46391-17    172.16.0.5   \n",
       "3        2927  172.16.0.5-192.168.50.1-634-11894-17    172.16.0.5   \n",
       "4         694  172.16.0.5-192.168.50.1-634-27878-17    172.16.0.5   \n",
       "\n",
       "   Source Port Destination IP  Destination Port  Protocol  \\\n",
       "0          634   192.168.50.1             60495        17   \n",
       "1          634     172.16.0.5             60495        17   \n",
       "2          634   192.168.50.1             46391        17   \n",
       "3          634   192.168.50.1             11894        17   \n",
       "4          634   192.168.50.1             27878        17   \n",
       "\n",
       "                    Timestamp  Flow Duration  Total Fwd Packets  ...  \\\n",
       "0  2018-12-01 10:51:39.813448          28415                 97  ...   \n",
       "1  2018-12-01 10:51:39.820842              2                  2  ...   \n",
       "2  2018-12-01 10:51:39.852499          48549                200  ...   \n",
       "3  2018-12-01 10:51:39.890213          48337                200  ...   \n",
       "4  2018-12-01 10:51:39.941151          32026                200  ...   \n",
       "\n",
       "   Active Std  Active Max  Active Min  Idle Mean  Idle Std  Idle Max  \\\n",
       "0         0.0         0.0         0.0        0.0       0.0       0.0   \n",
       "1         0.0         0.0         0.0        0.0       0.0       0.0   \n",
       "2         0.0         0.0         0.0        0.0       0.0       0.0   \n",
       "3         0.0         0.0         0.0        0.0       0.0       0.0   \n",
       "4         0.0         0.0         0.0        0.0       0.0       0.0   \n",
       "\n",
       "   Idle Min  SimillarHTTP  Inbound      Label  \n",
       "0       0.0             0        1  DrDoS_DNS  \n",
       "1       0.0             0        0  DrDoS_DNS  \n",
       "2       0.0             0        1  DrDoS_DNS  \n",
       "3       0.0             0        1  DrDoS_DNS  \n",
       "4       0.0             0        1  DrDoS_DNS  \n",
       "\n",
       "[5 rows x 88 columns]"
      ]
     },
     "execution_count": 28,
     "metadata": {},
     "output_type": "execute_result"
    }
   ],
   "source": [
    "data = pd.read_csv(f'../data/raw/csv/01-12/{files[1]}')\n",
    "data.columns = [x.strip() for x in data.columns]\n",
    "print(data.shape)\n",
    "data.head()"
   ]
  },
  {
   "cell_type": "code",
   "execution_count": 51,
   "metadata": {},
   "outputs": [
    {
     "name": "stdout",
     "output_type": "stream",
     "text": [
      "(401, 4)\n"
     ]
    },
    {
     "data": {
      "text/html": [
       "<div>\n",
       "<style scoped>\n",
       "    .dataframe tbody tr th:only-of-type {\n",
       "        vertical-align: middle;\n",
       "    }\n",
       "\n",
       "    .dataframe tbody tr th {\n",
       "        vertical-align: top;\n",
       "    }\n",
       "\n",
       "    .dataframe thead th {\n",
       "        text-align: right;\n",
       "    }\n",
       "</style>\n",
       "<table border=\"1\" class=\"dataframe\">\n",
       "  <thead>\n",
       "    <tr style=\"text-align: right;\">\n",
       "      <th></th>\n",
       "      <th>Source IP</th>\n",
       "      <th>Destination IP</th>\n",
       "      <th>Label</th>\n",
       "      <th>Timestamp</th>\n",
       "    </tr>\n",
       "  </thead>\n",
       "  <tbody>\n",
       "    <tr>\n",
       "      <th>0</th>\n",
       "      <td>0.0.0.0</td>\n",
       "      <td>255.255.255.255</td>\n",
       "      <td>BENIGN</td>\n",
       "      <td>2018-12-01 11:20:44.974670</td>\n",
       "    </tr>\n",
       "    <tr>\n",
       "      <th>1</th>\n",
       "      <td>104.36.115.113</td>\n",
       "      <td>192.168.50.6</td>\n",
       "      <td>BENIGN</td>\n",
       "      <td>2018-12-01 11:21:16.705372</td>\n",
       "    </tr>\n",
       "    <tr>\n",
       "      <th>2</th>\n",
       "      <td>104.36.115.113</td>\n",
       "      <td>192.168.50.8</td>\n",
       "      <td>BENIGN</td>\n",
       "      <td>2018-12-01 11:04:05.120243</td>\n",
       "    </tr>\n",
       "    <tr>\n",
       "      <th>3</th>\n",
       "      <td>104.88.29.90</td>\n",
       "      <td>192.168.50.6</td>\n",
       "      <td>BENIGN</td>\n",
       "      <td>2018-12-01 11:02:37.680624</td>\n",
       "    </tr>\n",
       "    <tr>\n",
       "      <th>4</th>\n",
       "      <td>104.88.46.113</td>\n",
       "      <td>192.168.50.7</td>\n",
       "      <td>BENIGN</td>\n",
       "      <td>2018-12-01 11:15:31.507846</td>\n",
       "    </tr>\n",
       "  </tbody>\n",
       "</table>\n",
       "</div>"
      ],
      "text/plain": [
       "        Source IP   Destination IP   Label                   Timestamp\n",
       "0         0.0.0.0  255.255.255.255  BENIGN  2018-12-01 11:20:44.974670\n",
       "1  104.36.115.113     192.168.50.6  BENIGN  2018-12-01 11:21:16.705372\n",
       "2  104.36.115.113     192.168.50.8  BENIGN  2018-12-01 11:04:05.120243\n",
       "3    104.88.29.90     192.168.50.6  BENIGN  2018-12-01 11:02:37.680624\n",
       "4   104.88.46.113     192.168.50.7  BENIGN  2018-12-01 11:15:31.507846"
      ]
     },
     "execution_count": 51,
     "metadata": {},
     "output_type": "execute_result"
    }
   ],
   "source": [
    "group = data.groupby(['Source IP', 'Destination IP', 'Label']).agg({'Timestamp': 'max'}).reset_index()\n",
    "print(group.shape)\n",
    "group.head()"
   ]
  },
  {
   "cell_type": "code",
   "execution_count": 40,
   "metadata": {},
   "outputs": [
    {
     "data": {
      "text/html": [
       "<div>\n",
       "<style scoped>\n",
       "    .dataframe tbody tr th:only-of-type {\n",
       "        vertical-align: middle;\n",
       "    }\n",
       "\n",
       "    .dataframe tbody tr th {\n",
       "        vertical-align: top;\n",
       "    }\n",
       "\n",
       "    .dataframe thead tr th {\n",
       "        text-align: left;\n",
       "    }\n",
       "</style>\n",
       "<table border=\"1\" class=\"dataframe\">\n",
       "  <thead>\n",
       "    <tr>\n",
       "      <th></th>\n",
       "      <th>Source IP</th>\n",
       "      <th>Destination IP</th>\n",
       "      <th>Label</th>\n",
       "      <th>Timestamp</th>\n",
       "    </tr>\n",
       "    <tr>\n",
       "      <th></th>\n",
       "      <th></th>\n",
       "      <th></th>\n",
       "      <th></th>\n",
       "      <th>max</th>\n",
       "    </tr>\n",
       "  </thead>\n",
       "  <tbody>\n",
       "    <tr>\n",
       "      <th>18</th>\n",
       "      <td>172.16.0.5</td>\n",
       "      <td>192.168.50.1</td>\n",
       "      <td>DrDoS_DNS</td>\n",
       "      <td>2018-12-01 11:22:40.254719</td>\n",
       "    </tr>\n",
       "    <tr>\n",
       "      <th>117</th>\n",
       "      <td>192.168.50.1</td>\n",
       "      <td>172.16.0.5</td>\n",
       "      <td>DrDoS_DNS</td>\n",
       "      <td>2018-12-01 11:22:39.740027</td>\n",
       "    </tr>\n",
       "  </tbody>\n",
       "</table>\n",
       "</div>"
      ],
      "text/plain": [
       "        Source IP Destination IP      Label                   Timestamp\n",
       "                                                                    max\n",
       "18     172.16.0.5   192.168.50.1  DrDoS_DNS  2018-12-01 11:22:40.254719\n",
       "117  192.168.50.1     172.16.0.5  DrDoS_DNS  2018-12-01 11:22:39.740027"
      ]
     },
     "execution_count": 40,
     "metadata": {},
     "output_type": "execute_result"
    }
   ],
   "source": [
    "group[group.Label == 'DrDoS_DNS']"
   ]
  },
  {
   "cell_type": "markdown",
   "metadata": {},
   "source": [
    "## Create a label dictionary\n",
    "\n",
    "It will have the following structure:\n",
    "\n",
    "It is a dictionary with: {\n",
    "  - (Source IP, Destination IP): {\n",
    "    - Label : Last Timestamp\n",
    "  \n",
    "  }\n",
    "\n",
    "}\n",
    "\n",
    "I will run here only for the first 4 attacks, since my RAM does not support all tables."
   ]
  },
  {
   "cell_type": "code",
   "execution_count": 6,
   "metadata": {},
   "outputs": [
    {
     "name": "stdout",
     "output_type": "stream",
     "text": [
      "Reading DrDoS_NTP.csv\n",
      "Preparing timestamps\n",
      "(1217007, 89)\n",
      "Grouping data\n",
      "Inserting into dictionary\n",
      "Done\n",
      "\n",
      "Reading DrDoS_DNS.csv\n",
      "Preparing timestamps\n",
      "(5074413, 89)\n",
      "Grouping data\n",
      "Inserting into dictionary\n",
      "Done\n",
      "\n",
      "Reading DrDoS_LDAP.csv\n",
      "Preparing timestamps\n",
      "(2181542, 89)\n",
      "Grouping data\n",
      "Inserting into dictionary\n",
      "Done\n",
      "\n",
      "Reading DrDoS_MSSQL.csv\n",
      "Preparing timestamps\n",
      "(4524498, 89)\n",
      "Grouping data\n",
      "Inserting into dictionary\n",
      "Done\n",
      "\n"
     ]
    }
   ],
   "source": [
    "label_dict = defaultdict(dict)\n",
    "for file in files[:4]:\n",
    "    print(f'Reading {file}')\n",
    "    data = pd.read_csv(f'../data/raw/csv/01-12/{file}')\n",
    "    data.columns = [x.strip() for x in data.columns]\n",
    "    print(f'Preparing timestamps')\n",
    "    data['timestamp'] = data['Timestamp'].apply(lambda x: datetime.strptime(x, '%Y-%m-%d %H:%M:%S.%f') + timedelta(hours=4))\n",
    "    print(data.shape)\n",
    "    data.head()\n",
    "    print(f'Grouping data')\n",
    "    group = data.groupby(['Source IP', 'Destination IP', 'Label']).agg({'Timestamp': 'max'}).reset_index()\n",
    "    print(f'Inserting into dictionary')\n",
    "    for index, row in group.iterrows():\n",
    "        label_dict[(row['Source IP'], row['Destination IP'])][row['Label']] = row['Timestamp']\n",
    "    del data\n",
    "    del group\n",
    "    print('Done\\n')"
   ]
  },
  {
   "cell_type": "code",
   "execution_count": 8,
   "metadata": {},
   "outputs": [
    {
     "data": {
      "text/plain": [
       "1338"
      ]
     },
     "execution_count": 8,
     "metadata": {},
     "output_type": "execute_result"
    }
   ],
   "source": [
    "len(label_dict)"
   ]
  },
  {
   "cell_type": "markdown",
   "metadata": {},
   "source": [
    "## Reading Label Dictionary\n",
    "\n",
    "### Train"
   ]
  },
  {
   "cell_type": "code",
   "execution_count": 10,
   "metadata": {},
   "outputs": [],
   "source": [
    "with open('../data/interim/part_c/train_label_dict.pkl', 'rb') as filename:\n",
    "    label_dict = pickle.load(filename)"
   ]
  },
  {
   "cell_type": "code",
   "execution_count": 16,
   "metadata": {},
   "outputs": [
    {
     "data": {
      "text/plain": [
       "2043"
      ]
     },
     "execution_count": 16,
     "metadata": {},
     "output_type": "execute_result"
    }
   ],
   "source": [
    "len(label_dict)"
   ]
  },
  {
   "cell_type": "markdown",
   "metadata": {},
   "source": [
    "As we can see below, all attacks come from the same IP address (172.16.0.5)"
   ]
  },
  {
   "cell_type": "code",
   "execution_count": 20,
   "metadata": {},
   "outputs": [
    {
     "data": {
      "text/plain": [
       "{('172.16.0.5', '192.168.50.1'): {'DrDoS_NTP': '2018-12-01 10:51:39.778786',\n",
       "  'DrDoS_DNS': '2018-12-01 11:22:40.254719',\n",
       "  'DrDoS_LDAP': '2018-12-01 11:32:32.915361',\n",
       "  'DrDoS_MSSQL': '2018-12-01 11:47:08.463107',\n",
       "  'DrDoS_NetBIOS': '2018-12-01 12:00:13.902732',\n",
       "  'DrDoS_SNMP': '2018-12-01 12:23:13.663368',\n",
       "  'DrDoS_SSDP': '2018-12-01 12:36:57.627789',\n",
       "  'DrDoS_UDP': '2018-12-01 13:04:45.928382',\n",
       "  'UDP-lag': '2018-12-01 13:30:30.740425',\n",
       "  'WebDDoS': '2018-12-01 13:30:30.664221',\n",
       "  'Syn': '2018-12-01 13:34:27.403143',\n",
       "  'TFTP': '2018-12-01 17:16:38.374479'},\n",
       " ('192.168.50.1', '172.16.0.5'): {'DrDoS_NTP': '2018-12-01 10:51:38.825113',\n",
       "  'DrDoS_DNS': '2018-12-01 11:22:39.740027',\n",
       "  'DrDoS_LDAP': '2018-12-01 11:32:32.723493',\n",
       "  'DrDoS_MSSQL': '2018-12-01 11:47:07.499031',\n",
       "  'DrDoS_NetBIOS': '2018-12-01 12:00:13.662425',\n",
       "  'DrDoS_SNMP': '2018-12-01 12:23:12.850532',\n",
       "  'DrDoS_SSDP': '2018-12-01 12:36:56.858758',\n",
       "  'DrDoS_UDP': '2018-12-01 13:04:45.170823',\n",
       "  'UDP-lag': '2018-12-01 13:30:11.908587',\n",
       "  'WebDDoS': '2018-12-01 13:30:30.661269',\n",
       "  'Syn': '2018-12-01 13:34:26.857157',\n",
       "  'TFTP': '2018-12-01 17:16:38.374659'},\n",
       " 0: {}}"
      ]
     },
     "execution_count": 20,
     "metadata": {},
     "output_type": "execute_result"
    }
   ],
   "source": [
    "{k: v for k, v in label_dict.items() if 'BENIGN' not in v}"
   ]
  },
  {
   "cell_type": "code",
   "execution_count": 21,
   "metadata": {},
   "outputs": [
    {
     "data": {
      "text/plain": [
       "{('172.16.0.5', '192.168.50.1'): {'DrDoS_NTP': '2018-12-01 10:51:39.778786',\n",
       "  'DrDoS_DNS': '2018-12-01 11:22:40.254719',\n",
       "  'DrDoS_LDAP': '2018-12-01 11:32:32.915361',\n",
       "  'DrDoS_MSSQL': '2018-12-01 11:47:08.463107',\n",
       "  'DrDoS_NetBIOS': '2018-12-01 12:00:13.902732',\n",
       "  'DrDoS_SNMP': '2018-12-01 12:23:13.663368',\n",
       "  'DrDoS_SSDP': '2018-12-01 12:36:57.627789',\n",
       "  'DrDoS_UDP': '2018-12-01 13:04:45.928382',\n",
       "  'UDP-lag': '2018-12-01 13:30:30.740425',\n",
       "  'WebDDoS': '2018-12-01 13:30:30.664221',\n",
       "  'Syn': '2018-12-01 13:34:27.403143',\n",
       "  'TFTP': '2018-12-01 17:16:38.374479'},\n",
       " ('192.168.50.1', '172.16.0.5'): {'DrDoS_NTP': '2018-12-01 10:51:38.825113',\n",
       "  'DrDoS_DNS': '2018-12-01 11:22:39.740027',\n",
       "  'DrDoS_LDAP': '2018-12-01 11:32:32.723493',\n",
       "  'DrDoS_MSSQL': '2018-12-01 11:47:07.499031',\n",
       "  'DrDoS_NetBIOS': '2018-12-01 12:00:13.662425',\n",
       "  'DrDoS_SNMP': '2018-12-01 12:23:12.850532',\n",
       "  'DrDoS_SSDP': '2018-12-01 12:36:56.858758',\n",
       "  'DrDoS_UDP': '2018-12-01 13:04:45.170823',\n",
       "  'UDP-lag': '2018-12-01 13:30:11.908587',\n",
       "  'WebDDoS': '2018-12-01 13:30:30.661269',\n",
       "  'Syn': '2018-12-01 13:34:26.857157',\n",
       "  'TFTP': '2018-12-01 17:16:38.374659'}}"
      ]
     },
     "execution_count": 21,
     "metadata": {},
     "output_type": "execute_result"
    }
   ],
   "source": [
    "{k: v for k, v in label_dict.items() if len(v) > 1}"
   ]
  },
  {
   "cell_type": "markdown",
   "metadata": {},
   "source": [
    "### Test"
   ]
  },
  {
   "cell_type": "code",
   "execution_count": 22,
   "metadata": {},
   "outputs": [],
   "source": [
    "with open('../data/interim/part_c/test_label_dict.pkl', 'rb') as filename:\n",
    "    label_dict = pickle.load(filename)"
   ]
  },
  {
   "cell_type": "code",
   "execution_count": 23,
   "metadata": {},
   "outputs": [
    {
     "data": {
      "text/plain": [
       "3233"
      ]
     },
     "execution_count": 23,
     "metadata": {},
     "output_type": "execute_result"
    }
   ],
   "source": [
    "len(label_dict)"
   ]
  },
  {
   "cell_type": "markdown",
   "metadata": {},
   "source": [
    "As we can see below, all attacks come from the same IP address (172.16.0.5)"
   ]
  },
  {
   "cell_type": "code",
   "execution_count": 24,
   "metadata": {},
   "outputs": [
    {
     "data": {
      "text/plain": [
       "{('172.16.0.5', '192.168.50.4'): {'Portmap': '2018-11-03 10:01:48.920515',\n",
       "  'NetBIOS': '2018-11-03 10:18:39.121734',\n",
       "  'LDAP': '2018-11-03 10:31:59.708498',\n",
       "  'MSSQL': '2018-11-03 10:51:59.988466',\n",
       "  'UDP': '2018-11-03 11:12:58.054429',\n",
       "  'Syn': '2018-11-03 17:36:41.528982',\n",
       "  'UDPLag': '2018-11-03 11:27:53.999014'},\n",
       " ('192.168.50.4', '172.16.0.5'): {'Portmap': '2018-11-03 10:01:48.767479',\n",
       "  'NetBIOS': '2018-11-03 10:18:28.139718',\n",
       "  'LDAP': '2018-11-03 10:31:59.708671',\n",
       "  'MSSQL': '2018-11-03 10:51:59.908375',\n",
       "  'UDP': '2018-11-03 11:12:58.054529',\n",
       "  'Syn': '2018-11-03 17:36:22.391171',\n",
       "  'UDPLag': '2018-11-03 11:27:53.999196'}}"
      ]
     },
     "execution_count": 24,
     "metadata": {},
     "output_type": "execute_result"
    }
   ],
   "source": [
    "{k: v for k, v in label_dict.items() if 'BENIGN' not in v}"
   ]
  },
  {
   "cell_type": "code",
   "execution_count": 25,
   "metadata": {},
   "outputs": [
    {
     "data": {
      "text/plain": [
       "{('172.16.0.5', '192.168.50.4'): {'Portmap': '2018-11-03 10:01:48.920515',\n",
       "  'NetBIOS': '2018-11-03 10:18:39.121734',\n",
       "  'LDAP': '2018-11-03 10:31:59.708498',\n",
       "  'MSSQL': '2018-11-03 10:51:59.988466',\n",
       "  'UDP': '2018-11-03 11:12:58.054429',\n",
       "  'Syn': '2018-11-03 17:36:41.528982',\n",
       "  'UDPLag': '2018-11-03 11:27:53.999014'},\n",
       " ('192.168.50.4', '172.16.0.5'): {'Portmap': '2018-11-03 10:01:48.767479',\n",
       "  'NetBIOS': '2018-11-03 10:18:28.139718',\n",
       "  'LDAP': '2018-11-03 10:31:59.708671',\n",
       "  'MSSQL': '2018-11-03 10:51:59.908375',\n",
       "  'UDP': '2018-11-03 11:12:58.054529',\n",
       "  'Syn': '2018-11-03 17:36:22.391171',\n",
       "  'UDPLag': '2018-11-03 11:27:53.999196'}}"
      ]
     },
     "execution_count": 25,
     "metadata": {},
     "output_type": "execute_result"
    }
   ],
   "source": [
    "{k: v for k, v in label_dict.items() if len(v) > 1}"
   ]
  }
 ],
 "metadata": {
  "kernelspec": {
   "display_name": "Python 3",
   "language": "python",
   "name": "python3"
  },
  "language_info": {
   "codemirror_mode": {
    "name": "ipython",
    "version": 3
   },
   "file_extension": ".py",
   "mimetype": "text/x-python",
   "name": "python",
   "nbconvert_exporter": "python",
   "pygments_lexer": "ipython3",
   "version": "3.8.2"
  }
 },
 "nbformat": 4,
 "nbformat_minor": 4
}
