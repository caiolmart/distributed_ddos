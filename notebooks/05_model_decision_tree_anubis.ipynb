{
 "cells": [
  {
   "cell_type": "code",
   "execution_count": 1,
   "metadata": {},
   "outputs": [],
   "source": [
    "import pandas as pd\n",
    "import numpy as np\n",
    "from sklearn.tree import DecisionTreeClassifier, plot_tree\n",
    "from sklearn.metrics import roc_auc_score, cohen_kappa_score, confusion_matrix\n",
    "from ast import literal_eval\n",
    "from datetime import datetime\n",
    "import matplotlib.pyplot as plt\n",
    "import seaborn as sns"
   ]
  },
  {
   "cell_type": "markdown",
   "metadata": {},
   "source": [
    "## Reading data"
   ]
  },
  {
   "cell_type": "code",
   "execution_count": 2,
   "metadata": {},
   "outputs": [],
   "source": [
    "twotup_cols = [    \n",
    "    'fwd_qt_pkt',\n",
    "    'fwd_qt_pkt_tcp',\n",
    "    'fwd_qt_pkt_udp',\n",
    "    'fwd_qt_pkt_icmp',\n",
    "    'fwd_qt_pkt_ip',\n",
    "    'fwd_qt_prtcl',\n",
    "    'fwd_qt_src_prt',\n",
    "    'fwd_qt_dst_prt',\n",
    "    'fwd_qt_fin_fl',\n",
    "    'fwd_qt_syn_fl',\n",
    "    'fwd_qt_res_fl',\n",
    "    'fwd_qt_psh_fl',\n",
    "    'fwd_qt_ack_fl',\n",
    "    'fwd_qt_urg_fl',\n",
    "    'fwd_qt_ecn_fl',\n",
    "    'fwd_qt_cwr_fl',\n",
    "    'fwd_avg_hdr_len',\n",
    "    'fwd_avg_pkt_len',\n",
    "    'fwd_frq_pkt',\n",
    "    'fwd_avg_ttl',\n",
    "    'bck_qt_pkt',\n",
    "    'bck_qt_pkt_tcp',\n",
    "    'bck_qt_pkt_udp',\n",
    "    'bck_qt_pkt_icmp',\n",
    "    'bck_qt_pkt_ip',\n",
    "    'bck_qt_prtcl',\n",
    "    'bck_qt_src_prt',\n",
    "    'bck_qt_dst_prt',\n",
    "    'bck_qt_fin_fl',\n",
    "    'bck_qt_syn_fl',\n",
    "    'bck_qt_res_fl',\n",
    "    'bck_qt_psh_fl',\n",
    "    'bck_qt_ack_fl',\n",
    "    'bck_qt_urg_fl',\n",
    "    'bck_qt_ecn_fl',\n",
    "    'bck_qt_cwr_fl',\n",
    "    'bck_avg_hdr_len',\n",
    "    'bck_avg_pkt_len',\n",
    "    'bck_frq_pkt',\n",
    "    'bck_avg_ttl',\n",
    "    'tm_dur_s',\n",
    "]"
   ]
  },
  {
   "cell_type": "code",
   "execution_count": 3,
   "metadata": {},
   "outputs": [
    {
     "data": {
      "text/plain": [
       "41"
      ]
     },
     "execution_count": 3,
     "metadata": {},
     "output_type": "execute_result"
    }
   ],
   "source": [
    "len(twotup_cols)"
   ]
  },
  {
   "cell_type": "code",
   "execution_count": 4,
   "metadata": {},
   "outputs": [],
   "source": [
    "fivetup_cols = [\n",
    "    'fwd_qt_pkt',\n",
    "    'fwd_qt_fin_fl',\n",
    "    'fwd_qt_syn_fl',\n",
    "    'fwd_qt_res_fl',\n",
    "    'fwd_qt_psh_fl',\n",
    "    'fwd_qt_ack_fl',\n",
    "    'fwd_qt_urg_fl',\n",
    "    'fwd_qt_ecn_fl',\n",
    "    'fwd_qt_cwr_fl',\n",
    "    'fwd_avg_hdr_len',\n",
    "    'fwd_avg_pkt_len',\n",
    "    'fwd_max_pkt_len',\n",
    "    'fwd_min_pkt_len',\n",
    "    'fwd_frq_pkt',\n",
    "    'fwd_avg_ttl',\n",
    "    'bck_qt_pkt',\n",
    "    'bck_qt_fin_fl',\n",
    "    'bck_qt_syn_fl',\n",
    "    'bck_qt_res_fl',\n",
    "    'bck_qt_psh_fl',\n",
    "    'bck_qt_ack_fl',\n",
    "    'bck_qt_urg_fl',\n",
    "    'bck_qt_ecn_fl',\n",
    "    'bck_qt_cwr_fl',\n",
    "    'bck_avg_hdr_len',\n",
    "    'bck_avg_pkt_len',\n",
    "    'bck_max_pkt_len',\n",
    "    'bck_min_pkt_len',\n",
    "    'bck_frq_pkt',\n",
    "    'bck_avg_ttl',\n",
    "    'tm_dur_s',\n",
    "]"
   ]
  },
  {
   "cell_type": "code",
   "execution_count": 5,
   "metadata": {},
   "outputs": [
    {
     "data": {
      "text/plain": [
       "31"
      ]
     },
     "execution_count": 5,
     "metadata": {},
     "output_type": "execute_result"
    }
   ],
   "source": [
    "len(fivetup_cols)"
   ]
  },
  {
   "cell_type": "code",
   "execution_count": 6,
   "metadata": {},
   "outputs": [],
   "source": [
    "cols = ['flow_key', 'lst_timestamp', 'label'] + \\\n",
    "       ['tt_' + x for x in twotup_cols] + \\\n",
    "       ['ft_' + x for x in fivetup_cols]"
   ]
  },
  {
   "cell_type": "code",
   "execution_count": 7,
   "metadata": {},
   "outputs": [
    {
     "data": {
      "text/plain": [
       "75"
      ]
     },
     "execution_count": 7,
     "metadata": {},
     "output_type": "execute_result"
    }
   ],
   "source": [
    "len(cols)"
   ]
  },
  {
   "cell_type": "code",
   "execution_count": 8,
   "metadata": {},
   "outputs": [],
   "source": [
    "pd.set_option('display.max_columns', 100)"
   ]
  },
  {
   "cell_type": "code",
   "execution_count": 9,
   "metadata": {},
   "outputs": [
    {
     "name": "stdout",
     "output_type": "stream",
     "text": [
      "(1217007, 75)\n"
     ]
    },
    {
     "data": {
      "text/html": [
       "<div>\n",
       "<style scoped>\n",
       "    .dataframe tbody tr th:only-of-type {\n",
       "        vertical-align: middle;\n",
       "    }\n",
       "\n",
       "    .dataframe tbody tr th {\n",
       "        vertical-align: top;\n",
       "    }\n",
       "\n",
       "    .dataframe thead th {\n",
       "        text-align: right;\n",
       "    }\n",
       "</style>\n",
       "<table border=\"1\" class=\"dataframe\">\n",
       "  <thead>\n",
       "    <tr style=\"text-align: right;\">\n",
       "      <th></th>\n",
       "      <th>flow_key</th>\n",
       "      <th>lst_timestamp</th>\n",
       "      <th>label</th>\n",
       "      <th>tt_fwd_qt_pkt</th>\n",
       "      <th>tt_fwd_qt_pkt_tcp</th>\n",
       "      <th>tt_fwd_qt_pkt_udp</th>\n",
       "      <th>tt_fwd_qt_pkt_icmp</th>\n",
       "      <th>tt_fwd_qt_pkt_ip</th>\n",
       "      <th>tt_fwd_qt_prtcl</th>\n",
       "      <th>tt_fwd_qt_src_prt</th>\n",
       "      <th>tt_fwd_qt_dst_prt</th>\n",
       "      <th>tt_fwd_qt_fin_fl</th>\n",
       "      <th>tt_fwd_qt_syn_fl</th>\n",
       "      <th>tt_fwd_qt_res_fl</th>\n",
       "      <th>tt_fwd_qt_psh_fl</th>\n",
       "      <th>tt_fwd_qt_ack_fl</th>\n",
       "      <th>tt_fwd_qt_urg_fl</th>\n",
       "      <th>tt_fwd_qt_ecn_fl</th>\n",
       "      <th>tt_fwd_qt_cwr_fl</th>\n",
       "      <th>tt_fwd_avg_hdr_len</th>\n",
       "      <th>tt_fwd_avg_pkt_len</th>\n",
       "      <th>tt_fwd_frq_pkt</th>\n",
       "      <th>tt_fwd_avg_ttl</th>\n",
       "      <th>tt_bck_qt_pkt</th>\n",
       "      <th>tt_bck_qt_pkt_tcp</th>\n",
       "      <th>tt_bck_qt_pkt_udp</th>\n",
       "      <th>tt_bck_qt_pkt_icmp</th>\n",
       "      <th>tt_bck_qt_pkt_ip</th>\n",
       "      <th>tt_bck_qt_prtcl</th>\n",
       "      <th>tt_bck_qt_src_prt</th>\n",
       "      <th>tt_bck_qt_dst_prt</th>\n",
       "      <th>tt_bck_qt_fin_fl</th>\n",
       "      <th>tt_bck_qt_syn_fl</th>\n",
       "      <th>tt_bck_qt_res_fl</th>\n",
       "      <th>tt_bck_qt_psh_fl</th>\n",
       "      <th>tt_bck_qt_ack_fl</th>\n",
       "      <th>tt_bck_qt_urg_fl</th>\n",
       "      <th>tt_bck_qt_ecn_fl</th>\n",
       "      <th>tt_bck_qt_cwr_fl</th>\n",
       "      <th>tt_bck_avg_hdr_len</th>\n",
       "      <th>tt_bck_avg_pkt_len</th>\n",
       "      <th>tt_bck_frq_pkt</th>\n",
       "      <th>tt_bck_avg_ttl</th>\n",
       "      <th>tt_tm_dur_s</th>\n",
       "      <th>ft_fwd_qt_pkt</th>\n",
       "      <th>ft_fwd_qt_fin_fl</th>\n",
       "      <th>ft_fwd_qt_syn_fl</th>\n",
       "      <th>ft_fwd_qt_res_fl</th>\n",
       "      <th>ft_fwd_qt_psh_fl</th>\n",
       "      <th>ft_fwd_qt_ack_fl</th>\n",
       "      <th>ft_fwd_qt_urg_fl</th>\n",
       "      <th>ft_fwd_qt_ecn_fl</th>\n",
       "      <th>ft_fwd_qt_cwr_fl</th>\n",
       "      <th>ft_fwd_avg_hdr_len</th>\n",
       "      <th>ft_fwd_avg_pkt_len</th>\n",
       "      <th>ft_fwd_max_pkt_len</th>\n",
       "      <th>ft_fwd_min_pkt_len</th>\n",
       "      <th>ft_fwd_frq_pkt</th>\n",
       "      <th>ft_fwd_avg_ttl</th>\n",
       "      <th>ft_bck_qt_pkt</th>\n",
       "      <th>ft_bck_qt_fin_fl</th>\n",
       "      <th>ft_bck_qt_syn_fl</th>\n",
       "      <th>ft_bck_qt_res_fl</th>\n",
       "      <th>ft_bck_qt_psh_fl</th>\n",
       "      <th>ft_bck_qt_ack_fl</th>\n",
       "      <th>ft_bck_qt_urg_fl</th>\n",
       "      <th>ft_bck_qt_ecn_fl</th>\n",
       "      <th>ft_bck_qt_cwr_fl</th>\n",
       "      <th>ft_bck_avg_hdr_len</th>\n",
       "      <th>ft_bck_avg_pkt_len</th>\n",
       "      <th>ft_bck_max_pkt_len</th>\n",
       "      <th>ft_bck_min_pkt_len</th>\n",
       "      <th>ft_bck_frq_pkt</th>\n",
       "      <th>ft_bck_avg_ttl</th>\n",
       "      <th>ft_tm_dur_s</th>\n",
       "    </tr>\n",
       "  </thead>\n",
       "  <tbody>\n",
       "    <tr>\n",
       "      <th>0</th>\n",
       "      <td>(65.55.163.78, 443, 192.168.50.7, 50458, 6)</td>\n",
       "      <td>2018-12-01 13:17:12.634572</td>\n",
       "      <td>BENIGN</td>\n",
       "      <td>3</td>\n",
       "      <td>3</td>\n",
       "      <td>0</td>\n",
       "      <td>0</td>\n",
       "      <td>0</td>\n",
       "      <td>1</td>\n",
       "      <td>1</td>\n",
       "      <td>2</td>\n",
       "      <td>0</td>\n",
       "      <td>0</td>\n",
       "      <td>3</td>\n",
       "      <td>0</td>\n",
       "      <td>3</td>\n",
       "      <td>0</td>\n",
       "      <td>0</td>\n",
       "      <td>0</td>\n",
       "      <td>20.0</td>\n",
       "      <td>60.0</td>\n",
       "      <td>3.0</td>\n",
       "      <td>241.0</td>\n",
       "      <td>0</td>\n",
       "      <td>0</td>\n",
       "      <td>0</td>\n",
       "      <td>0</td>\n",
       "      <td>0</td>\n",
       "      <td>0</td>\n",
       "      <td>0</td>\n",
       "      <td>0</td>\n",
       "      <td>0</td>\n",
       "      <td>0</td>\n",
       "      <td>0</td>\n",
       "      <td>0</td>\n",
       "      <td>0</td>\n",
       "      <td>0</td>\n",
       "      <td>0</td>\n",
       "      <td>0</td>\n",
       "      <td>0.0</td>\n",
       "      <td>0.0</td>\n",
       "      <td>0.0</td>\n",
       "      <td>0.0</td>\n",
       "      <td>1.0</td>\n",
       "      <td>2</td>\n",
       "      <td>0</td>\n",
       "      <td>0</td>\n",
       "      <td>2</td>\n",
       "      <td>0</td>\n",
       "      <td>2</td>\n",
       "      <td>0</td>\n",
       "      <td>0</td>\n",
       "      <td>0</td>\n",
       "      <td>20.0</td>\n",
       "      <td>60.000000</td>\n",
       "      <td>60</td>\n",
       "      <td>60</td>\n",
       "      <td>2.0</td>\n",
       "      <td>241.0</td>\n",
       "      <td>0</td>\n",
       "      <td>0</td>\n",
       "      <td>0</td>\n",
       "      <td>0</td>\n",
       "      <td>0</td>\n",
       "      <td>0</td>\n",
       "      <td>0</td>\n",
       "      <td>0</td>\n",
       "      <td>0</td>\n",
       "      <td>0.0</td>\n",
       "      <td>0.000000</td>\n",
       "      <td>0</td>\n",
       "      <td>0</td>\n",
       "      <td>0.0</td>\n",
       "      <td>0.0</td>\n",
       "      <td>0.0</td>\n",
       "    </tr>\n",
       "    <tr>\n",
       "      <th>1</th>\n",
       "      <td>(65.55.163.78, 443, 192.168.50.7, 50465, 6)</td>\n",
       "      <td>2018-12-01 13:17:13.458373</td>\n",
       "      <td>BENIGN</td>\n",
       "      <td>4</td>\n",
       "      <td>4</td>\n",
       "      <td>0</td>\n",
       "      <td>0</td>\n",
       "      <td>0</td>\n",
       "      <td>1</td>\n",
       "      <td>1</td>\n",
       "      <td>2</td>\n",
       "      <td>0</td>\n",
       "      <td>0</td>\n",
       "      <td>4</td>\n",
       "      <td>0</td>\n",
       "      <td>4</td>\n",
       "      <td>0</td>\n",
       "      <td>0</td>\n",
       "      <td>0</td>\n",
       "      <td>20.0</td>\n",
       "      <td>60.0</td>\n",
       "      <td>4.0</td>\n",
       "      <td>241.0</td>\n",
       "      <td>0</td>\n",
       "      <td>0</td>\n",
       "      <td>0</td>\n",
       "      <td>0</td>\n",
       "      <td>0</td>\n",
       "      <td>0</td>\n",
       "      <td>0</td>\n",
       "      <td>0</td>\n",
       "      <td>0</td>\n",
       "      <td>0</td>\n",
       "      <td>0</td>\n",
       "      <td>0</td>\n",
       "      <td>0</td>\n",
       "      <td>0</td>\n",
       "      <td>0</td>\n",
       "      <td>0</td>\n",
       "      <td>0.0</td>\n",
       "      <td>0.0</td>\n",
       "      <td>0.0</td>\n",
       "      <td>0.0</td>\n",
       "      <td>1.0</td>\n",
       "      <td>2</td>\n",
       "      <td>0</td>\n",
       "      <td>0</td>\n",
       "      <td>2</td>\n",
       "      <td>0</td>\n",
       "      <td>2</td>\n",
       "      <td>0</td>\n",
       "      <td>0</td>\n",
       "      <td>0</td>\n",
       "      <td>20.0</td>\n",
       "      <td>60.000000</td>\n",
       "      <td>60</td>\n",
       "      <td>60</td>\n",
       "      <td>2.0</td>\n",
       "      <td>241.0</td>\n",
       "      <td>0</td>\n",
       "      <td>0</td>\n",
       "      <td>0</td>\n",
       "      <td>0</td>\n",
       "      <td>0</td>\n",
       "      <td>0</td>\n",
       "      <td>0</td>\n",
       "      <td>0</td>\n",
       "      <td>0</td>\n",
       "      <td>0.0</td>\n",
       "      <td>0.000000</td>\n",
       "      <td>0</td>\n",
       "      <td>0</td>\n",
       "      <td>0.0</td>\n",
       "      <td>0.0</td>\n",
       "      <td>0.0</td>\n",
       "    </tr>\n",
       "    <tr>\n",
       "      <th>2</th>\n",
       "      <td>(172.16.0.5, 60675, 192.168.50.1, 80, 6)</td>\n",
       "      <td>2018-12-01 13:17:16.404686</td>\n",
       "      <td>DrDoS_NTP</td>\n",
       "      <td>26</td>\n",
       "      <td>26</td>\n",
       "      <td>0</td>\n",
       "      <td>0</td>\n",
       "      <td>0</td>\n",
       "      <td>1</td>\n",
       "      <td>3</td>\n",
       "      <td>1</td>\n",
       "      <td>2</td>\n",
       "      <td>6</td>\n",
       "      <td>0</td>\n",
       "      <td>6</td>\n",
       "      <td>20</td>\n",
       "      <td>0</td>\n",
       "      <td>0</td>\n",
       "      <td>0</td>\n",
       "      <td>20.0</td>\n",
       "      <td>171.0</td>\n",
       "      <td>5.2</td>\n",
       "      <td>63.0</td>\n",
       "      <td>20</td>\n",
       "      <td>20</td>\n",
       "      <td>0</td>\n",
       "      <td>0</td>\n",
       "      <td>0</td>\n",
       "      <td>1</td>\n",
       "      <td>1</td>\n",
       "      <td>3</td>\n",
       "      <td>2</td>\n",
       "      <td>6</td>\n",
       "      <td>0</td>\n",
       "      <td>6</td>\n",
       "      <td>20</td>\n",
       "      <td>0</td>\n",
       "      <td>0</td>\n",
       "      <td>0</td>\n",
       "      <td>20.0</td>\n",
       "      <td>390.2</td>\n",
       "      <td>4.0</td>\n",
       "      <td>64.0</td>\n",
       "      <td>5.0</td>\n",
       "      <td>14</td>\n",
       "      <td>2</td>\n",
       "      <td>2</td>\n",
       "      <td>0</td>\n",
       "      <td>4</td>\n",
       "      <td>12</td>\n",
       "      <td>0</td>\n",
       "      <td>0</td>\n",
       "      <td>0</td>\n",
       "      <td>20.0</td>\n",
       "      <td>204.857143</td>\n",
       "      <td>575</td>\n",
       "      <td>66</td>\n",
       "      <td>2.8</td>\n",
       "      <td>63.0</td>\n",
       "      <td>12</td>\n",
       "      <td>2</td>\n",
       "      <td>2</td>\n",
       "      <td>0</td>\n",
       "      <td>4</td>\n",
       "      <td>12</td>\n",
       "      <td>0</td>\n",
       "      <td>0</td>\n",
       "      <td>0</td>\n",
       "      <td>20.0</td>\n",
       "      <td>424.833333</td>\n",
       "      <td>1139</td>\n",
       "      <td>66</td>\n",
       "      <td>2.4</td>\n",
       "      <td>64.0</td>\n",
       "      <td>5.0</td>\n",
       "    </tr>\n",
       "    <tr>\n",
       "      <th>3</th>\n",
       "      <td>(192.168.50.1, 80, 172.16.0.5, 60675, 6)</td>\n",
       "      <td>2018-12-01 13:17:16.404865</td>\n",
       "      <td>DrDoS_NTP</td>\n",
       "      <td>20</td>\n",
       "      <td>20</td>\n",
       "      <td>0</td>\n",
       "      <td>0</td>\n",
       "      <td>0</td>\n",
       "      <td>1</td>\n",
       "      <td>1</td>\n",
       "      <td>3</td>\n",
       "      <td>2</td>\n",
       "      <td>6</td>\n",
       "      <td>0</td>\n",
       "      <td>6</td>\n",
       "      <td>20</td>\n",
       "      <td>0</td>\n",
       "      <td>0</td>\n",
       "      <td>0</td>\n",
       "      <td>20.0</td>\n",
       "      <td>390.2</td>\n",
       "      <td>4.0</td>\n",
       "      <td>64.0</td>\n",
       "      <td>26</td>\n",
       "      <td>26</td>\n",
       "      <td>0</td>\n",
       "      <td>0</td>\n",
       "      <td>0</td>\n",
       "      <td>1</td>\n",
       "      <td>3</td>\n",
       "      <td>1</td>\n",
       "      <td>2</td>\n",
       "      <td>6</td>\n",
       "      <td>0</td>\n",
       "      <td>6</td>\n",
       "      <td>20</td>\n",
       "      <td>0</td>\n",
       "      <td>0</td>\n",
       "      <td>0</td>\n",
       "      <td>20.0</td>\n",
       "      <td>171.0</td>\n",
       "      <td>5.2</td>\n",
       "      <td>63.0</td>\n",
       "      <td>5.0</td>\n",
       "      <td>12</td>\n",
       "      <td>2</td>\n",
       "      <td>2</td>\n",
       "      <td>0</td>\n",
       "      <td>4</td>\n",
       "      <td>12</td>\n",
       "      <td>0</td>\n",
       "      <td>0</td>\n",
       "      <td>0</td>\n",
       "      <td>20.0</td>\n",
       "      <td>424.833333</td>\n",
       "      <td>1139</td>\n",
       "      <td>66</td>\n",
       "      <td>2.4</td>\n",
       "      <td>64.0</td>\n",
       "      <td>14</td>\n",
       "      <td>2</td>\n",
       "      <td>2</td>\n",
       "      <td>0</td>\n",
       "      <td>4</td>\n",
       "      <td>12</td>\n",
       "      <td>0</td>\n",
       "      <td>0</td>\n",
       "      <td>0</td>\n",
       "      <td>20.0</td>\n",
       "      <td>204.857143</td>\n",
       "      <td>575</td>\n",
       "      <td>66</td>\n",
       "      <td>2.8</td>\n",
       "      <td>63.0</td>\n",
       "      <td>5.0</td>\n",
       "    </tr>\n",
       "    <tr>\n",
       "      <th>4</th>\n",
       "      <td>(172.16.0.5, 60675, 192.168.50.1, 80, 6)</td>\n",
       "      <td>2018-12-01 13:17:16.404963</td>\n",
       "      <td>DrDoS_NTP</td>\n",
       "      <td>26</td>\n",
       "      <td>26</td>\n",
       "      <td>0</td>\n",
       "      <td>0</td>\n",
       "      <td>0</td>\n",
       "      <td>1</td>\n",
       "      <td>3</td>\n",
       "      <td>1</td>\n",
       "      <td>2</td>\n",
       "      <td>6</td>\n",
       "      <td>0</td>\n",
       "      <td>6</td>\n",
       "      <td>20</td>\n",
       "      <td>0</td>\n",
       "      <td>0</td>\n",
       "      <td>0</td>\n",
       "      <td>20.0</td>\n",
       "      <td>171.0</td>\n",
       "      <td>5.2</td>\n",
       "      <td>63.0</td>\n",
       "      <td>20</td>\n",
       "      <td>20</td>\n",
       "      <td>0</td>\n",
       "      <td>0</td>\n",
       "      <td>0</td>\n",
       "      <td>1</td>\n",
       "      <td>1</td>\n",
       "      <td>3</td>\n",
       "      <td>2</td>\n",
       "      <td>6</td>\n",
       "      <td>0</td>\n",
       "      <td>6</td>\n",
       "      <td>20</td>\n",
       "      <td>0</td>\n",
       "      <td>0</td>\n",
       "      <td>0</td>\n",
       "      <td>20.0</td>\n",
       "      <td>390.2</td>\n",
       "      <td>4.0</td>\n",
       "      <td>64.0</td>\n",
       "      <td>5.0</td>\n",
       "      <td>14</td>\n",
       "      <td>2</td>\n",
       "      <td>2</td>\n",
       "      <td>0</td>\n",
       "      <td>4</td>\n",
       "      <td>12</td>\n",
       "      <td>0</td>\n",
       "      <td>0</td>\n",
       "      <td>0</td>\n",
       "      <td>20.0</td>\n",
       "      <td>204.857143</td>\n",
       "      <td>575</td>\n",
       "      <td>66</td>\n",
       "      <td>2.8</td>\n",
       "      <td>63.0</td>\n",
       "      <td>12</td>\n",
       "      <td>2</td>\n",
       "      <td>2</td>\n",
       "      <td>0</td>\n",
       "      <td>4</td>\n",
       "      <td>12</td>\n",
       "      <td>0</td>\n",
       "      <td>0</td>\n",
       "      <td>0</td>\n",
       "      <td>20.0</td>\n",
       "      <td>424.833333</td>\n",
       "      <td>1139</td>\n",
       "      <td>66</td>\n",
       "      <td>2.4</td>\n",
       "      <td>64.0</td>\n",
       "      <td>5.0</td>\n",
       "    </tr>\n",
       "  </tbody>\n",
       "</table>\n",
       "</div>"
      ],
      "text/plain": [
       "                                      flow_key              lst_timestamp  \\\n",
       "0  (65.55.163.78, 443, 192.168.50.7, 50458, 6) 2018-12-01 13:17:12.634572   \n",
       "1  (65.55.163.78, 443, 192.168.50.7, 50465, 6) 2018-12-01 13:17:13.458373   \n",
       "2     (172.16.0.5, 60675, 192.168.50.1, 80, 6) 2018-12-01 13:17:16.404686   \n",
       "3     (192.168.50.1, 80, 172.16.0.5, 60675, 6) 2018-12-01 13:17:16.404865   \n",
       "4     (172.16.0.5, 60675, 192.168.50.1, 80, 6) 2018-12-01 13:17:16.404963   \n",
       "\n",
       "       label  tt_fwd_qt_pkt  tt_fwd_qt_pkt_tcp  tt_fwd_qt_pkt_udp  \\\n",
       "0     BENIGN              3                  3                  0   \n",
       "1     BENIGN              4                  4                  0   \n",
       "2  DrDoS_NTP             26                 26                  0   \n",
       "3  DrDoS_NTP             20                 20                  0   \n",
       "4  DrDoS_NTP             26                 26                  0   \n",
       "\n",
       "   tt_fwd_qt_pkt_icmp  tt_fwd_qt_pkt_ip  tt_fwd_qt_prtcl  tt_fwd_qt_src_prt  \\\n",
       "0                   0                 0                1                  1   \n",
       "1                   0                 0                1                  1   \n",
       "2                   0                 0                1                  3   \n",
       "3                   0                 0                1                  1   \n",
       "4                   0                 0                1                  3   \n",
       "\n",
       "   tt_fwd_qt_dst_prt  tt_fwd_qt_fin_fl  tt_fwd_qt_syn_fl  tt_fwd_qt_res_fl  \\\n",
       "0                  2                 0                 0                 3   \n",
       "1                  2                 0                 0                 4   \n",
       "2                  1                 2                 6                 0   \n",
       "3                  3                 2                 6                 0   \n",
       "4                  1                 2                 6                 0   \n",
       "\n",
       "   tt_fwd_qt_psh_fl  tt_fwd_qt_ack_fl  tt_fwd_qt_urg_fl  tt_fwd_qt_ecn_fl  \\\n",
       "0                 0                 3                 0                 0   \n",
       "1                 0                 4                 0                 0   \n",
       "2                 6                20                 0                 0   \n",
       "3                 6                20                 0                 0   \n",
       "4                 6                20                 0                 0   \n",
       "\n",
       "   tt_fwd_qt_cwr_fl  tt_fwd_avg_hdr_len  tt_fwd_avg_pkt_len  tt_fwd_frq_pkt  \\\n",
       "0                 0                20.0                60.0             3.0   \n",
       "1                 0                20.0                60.0             4.0   \n",
       "2                 0                20.0               171.0             5.2   \n",
       "3                 0                20.0               390.2             4.0   \n",
       "4                 0                20.0               171.0             5.2   \n",
       "\n",
       "   tt_fwd_avg_ttl  tt_bck_qt_pkt  tt_bck_qt_pkt_tcp  tt_bck_qt_pkt_udp  \\\n",
       "0           241.0              0                  0                  0   \n",
       "1           241.0              0                  0                  0   \n",
       "2            63.0             20                 20                  0   \n",
       "3            64.0             26                 26                  0   \n",
       "4            63.0             20                 20                  0   \n",
       "\n",
       "   tt_bck_qt_pkt_icmp  tt_bck_qt_pkt_ip  tt_bck_qt_prtcl  tt_bck_qt_src_prt  \\\n",
       "0                   0                 0                0                  0   \n",
       "1                   0                 0                0                  0   \n",
       "2                   0                 0                1                  1   \n",
       "3                   0                 0                1                  3   \n",
       "4                   0                 0                1                  1   \n",
       "\n",
       "   tt_bck_qt_dst_prt  tt_bck_qt_fin_fl  tt_bck_qt_syn_fl  tt_bck_qt_res_fl  \\\n",
       "0                  0                 0                 0                 0   \n",
       "1                  0                 0                 0                 0   \n",
       "2                  3                 2                 6                 0   \n",
       "3                  1                 2                 6                 0   \n",
       "4                  3                 2                 6                 0   \n",
       "\n",
       "   tt_bck_qt_psh_fl  tt_bck_qt_ack_fl  tt_bck_qt_urg_fl  tt_bck_qt_ecn_fl  \\\n",
       "0                 0                 0                 0                 0   \n",
       "1                 0                 0                 0                 0   \n",
       "2                 6                20                 0                 0   \n",
       "3                 6                20                 0                 0   \n",
       "4                 6                20                 0                 0   \n",
       "\n",
       "   tt_bck_qt_cwr_fl  tt_bck_avg_hdr_len  tt_bck_avg_pkt_len  tt_bck_frq_pkt  \\\n",
       "0                 0                 0.0                 0.0             0.0   \n",
       "1                 0                 0.0                 0.0             0.0   \n",
       "2                 0                20.0               390.2             4.0   \n",
       "3                 0                20.0               171.0             5.2   \n",
       "4                 0                20.0               390.2             4.0   \n",
       "\n",
       "   tt_bck_avg_ttl  tt_tm_dur_s  ft_fwd_qt_pkt  ft_fwd_qt_fin_fl  \\\n",
       "0             0.0          1.0              2                 0   \n",
       "1             0.0          1.0              2                 0   \n",
       "2            64.0          5.0             14                 2   \n",
       "3            63.0          5.0             12                 2   \n",
       "4            64.0          5.0             14                 2   \n",
       "\n",
       "   ft_fwd_qt_syn_fl  ft_fwd_qt_res_fl  ft_fwd_qt_psh_fl  ft_fwd_qt_ack_fl  \\\n",
       "0                 0                 2                 0                 2   \n",
       "1                 0                 2                 0                 2   \n",
       "2                 2                 0                 4                12   \n",
       "3                 2                 0                 4                12   \n",
       "4                 2                 0                 4                12   \n",
       "\n",
       "   ft_fwd_qt_urg_fl  ft_fwd_qt_ecn_fl  ft_fwd_qt_cwr_fl  ft_fwd_avg_hdr_len  \\\n",
       "0                 0                 0                 0                20.0   \n",
       "1                 0                 0                 0                20.0   \n",
       "2                 0                 0                 0                20.0   \n",
       "3                 0                 0                 0                20.0   \n",
       "4                 0                 0                 0                20.0   \n",
       "\n",
       "   ft_fwd_avg_pkt_len  ft_fwd_max_pkt_len  ft_fwd_min_pkt_len  ft_fwd_frq_pkt  \\\n",
       "0           60.000000                  60                  60             2.0   \n",
       "1           60.000000                  60                  60             2.0   \n",
       "2          204.857143                 575                  66             2.8   \n",
       "3          424.833333                1139                  66             2.4   \n",
       "4          204.857143                 575                  66             2.8   \n",
       "\n",
       "   ft_fwd_avg_ttl  ft_bck_qt_pkt  ft_bck_qt_fin_fl  ft_bck_qt_syn_fl  \\\n",
       "0           241.0              0                 0                 0   \n",
       "1           241.0              0                 0                 0   \n",
       "2            63.0             12                 2                 2   \n",
       "3            64.0             14                 2                 2   \n",
       "4            63.0             12                 2                 2   \n",
       "\n",
       "   ft_bck_qt_res_fl  ft_bck_qt_psh_fl  ft_bck_qt_ack_fl  ft_bck_qt_urg_fl  \\\n",
       "0                 0                 0                 0                 0   \n",
       "1                 0                 0                 0                 0   \n",
       "2                 0                 4                12                 0   \n",
       "3                 0                 4                12                 0   \n",
       "4                 0                 4                12                 0   \n",
       "\n",
       "   ft_bck_qt_ecn_fl  ft_bck_qt_cwr_fl  ft_bck_avg_hdr_len  ft_bck_avg_pkt_len  \\\n",
       "0                 0                 0                 0.0            0.000000   \n",
       "1                 0                 0                 0.0            0.000000   \n",
       "2                 0                 0                20.0          424.833333   \n",
       "3                 0                 0                20.0          204.857143   \n",
       "4                 0                 0                20.0          424.833333   \n",
       "\n",
       "   ft_bck_max_pkt_len  ft_bck_min_pkt_len  ft_bck_frq_pkt  ft_bck_avg_ttl  \\\n",
       "0                   0                   0             0.0             0.0   \n",
       "1                   0                   0             0.0             0.0   \n",
       "2                1139                  66             2.4            64.0   \n",
       "3                 575                  66             2.8            63.0   \n",
       "4                1139                  66             2.4            64.0   \n",
       "\n",
       "   ft_tm_dur_s  \n",
       "0          0.0  \n",
       "1          0.0  \n",
       "2          5.0  \n",
       "3          5.0  \n",
       "4          5.0  "
      ]
     },
     "execution_count": 9,
     "metadata": {},
     "output_type": "execute_result"
    }
   ],
   "source": [
    "data = pd.read_csv('../data/interim/part_b/train/flow_features_DrDoS_NTP.csv', sep=';', names=cols)\n",
    "data['flow_key'] = data.flow_key.apply(lambda x: literal_eval(x))\n",
    "data['lst_timestamp'] = pd.to_datetime(data.lst_timestamp)\n",
    "print(data.shape)\n",
    "data.head()"
   ]
  },
  {
   "cell_type": "code",
   "execution_count": 10,
   "metadata": {},
   "outputs": [],
   "source": [
    "data['attack'] = (data.label == 'DrDoS_NTP') * 1"
   ]
  },
  {
   "cell_type": "markdown",
   "metadata": {},
   "source": [
    "## Train/validation split"
   ]
  },
  {
   "cell_type": "code",
   "execution_count": 11,
   "metadata": {},
   "outputs": [
    {
     "data": {
      "text/html": [
       "<div>\n",
       "<style scoped>\n",
       "    .dataframe tbody tr th:only-of-type {\n",
       "        vertical-align: middle;\n",
       "    }\n",
       "\n",
       "    .dataframe tbody tr th {\n",
       "        vertical-align: top;\n",
       "    }\n",
       "\n",
       "    .dataframe thead th {\n",
       "        text-align: right;\n",
       "    }\n",
       "</style>\n",
       "<table border=\"1\" class=\"dataframe\">\n",
       "  <thead>\n",
       "    <tr style=\"text-align: right;\">\n",
       "      <th></th>\n",
       "      <th>flow_key</th>\n",
       "      <th>lst_timestamp</th>\n",
       "      <th>label</th>\n",
       "      <th>tt_fwd_qt_pkt</th>\n",
       "      <th>tt_fwd_qt_pkt_tcp</th>\n",
       "      <th>tt_fwd_qt_pkt_udp</th>\n",
       "      <th>tt_fwd_qt_pkt_icmp</th>\n",
       "      <th>tt_fwd_qt_pkt_ip</th>\n",
       "      <th>tt_fwd_qt_prtcl</th>\n",
       "      <th>tt_fwd_qt_src_prt</th>\n",
       "      <th>tt_fwd_qt_dst_prt</th>\n",
       "      <th>tt_fwd_qt_fin_fl</th>\n",
       "      <th>tt_fwd_qt_syn_fl</th>\n",
       "      <th>tt_fwd_qt_res_fl</th>\n",
       "      <th>tt_fwd_qt_psh_fl</th>\n",
       "      <th>tt_fwd_qt_ack_fl</th>\n",
       "      <th>tt_fwd_qt_urg_fl</th>\n",
       "      <th>tt_fwd_qt_ecn_fl</th>\n",
       "      <th>tt_fwd_qt_cwr_fl</th>\n",
       "      <th>tt_fwd_avg_hdr_len</th>\n",
       "      <th>tt_fwd_avg_pkt_len</th>\n",
       "      <th>tt_fwd_frq_pkt</th>\n",
       "      <th>tt_fwd_avg_ttl</th>\n",
       "      <th>tt_bck_qt_pkt</th>\n",
       "      <th>tt_bck_qt_pkt_tcp</th>\n",
       "      <th>tt_bck_qt_pkt_udp</th>\n",
       "      <th>tt_bck_qt_pkt_icmp</th>\n",
       "      <th>tt_bck_qt_pkt_ip</th>\n",
       "      <th>tt_bck_qt_prtcl</th>\n",
       "      <th>tt_bck_qt_src_prt</th>\n",
       "      <th>tt_bck_qt_dst_prt</th>\n",
       "      <th>tt_bck_qt_fin_fl</th>\n",
       "      <th>tt_bck_qt_syn_fl</th>\n",
       "      <th>tt_bck_qt_res_fl</th>\n",
       "      <th>tt_bck_qt_psh_fl</th>\n",
       "      <th>tt_bck_qt_ack_fl</th>\n",
       "      <th>tt_bck_qt_urg_fl</th>\n",
       "      <th>tt_bck_qt_ecn_fl</th>\n",
       "      <th>tt_bck_qt_cwr_fl</th>\n",
       "      <th>tt_bck_avg_hdr_len</th>\n",
       "      <th>tt_bck_avg_pkt_len</th>\n",
       "      <th>tt_bck_frq_pkt</th>\n",
       "      <th>tt_bck_avg_ttl</th>\n",
       "      <th>tt_tm_dur_s</th>\n",
       "      <th>ft_fwd_qt_pkt</th>\n",
       "      <th>ft_fwd_qt_fin_fl</th>\n",
       "      <th>ft_fwd_qt_syn_fl</th>\n",
       "      <th>ft_fwd_qt_res_fl</th>\n",
       "      <th>ft_fwd_qt_psh_fl</th>\n",
       "      <th>ft_fwd_qt_ack_fl</th>\n",
       "      <th>ft_fwd_qt_urg_fl</th>\n",
       "      <th>ft_fwd_qt_ecn_fl</th>\n",
       "      <th>ft_fwd_qt_cwr_fl</th>\n",
       "      <th>ft_fwd_avg_hdr_len</th>\n",
       "      <th>ft_fwd_avg_pkt_len</th>\n",
       "      <th>ft_fwd_max_pkt_len</th>\n",
       "      <th>ft_fwd_min_pkt_len</th>\n",
       "      <th>ft_fwd_frq_pkt</th>\n",
       "      <th>ft_fwd_avg_ttl</th>\n",
       "      <th>ft_bck_qt_pkt</th>\n",
       "      <th>ft_bck_qt_fin_fl</th>\n",
       "      <th>ft_bck_qt_syn_fl</th>\n",
       "      <th>ft_bck_qt_res_fl</th>\n",
       "      <th>ft_bck_qt_psh_fl</th>\n",
       "      <th>ft_bck_qt_ack_fl</th>\n",
       "      <th>ft_bck_qt_urg_fl</th>\n",
       "      <th>ft_bck_qt_ecn_fl</th>\n",
       "      <th>ft_bck_qt_cwr_fl</th>\n",
       "      <th>ft_bck_avg_hdr_len</th>\n",
       "      <th>ft_bck_avg_pkt_len</th>\n",
       "      <th>ft_bck_max_pkt_len</th>\n",
       "      <th>ft_bck_min_pkt_len</th>\n",
       "      <th>ft_bck_frq_pkt</th>\n",
       "      <th>ft_bck_avg_ttl</th>\n",
       "      <th>ft_tm_dur_s</th>\n",
       "      <th>attack</th>\n",
       "      <th>ip_src</th>\n",
       "      <th>port_src</th>\n",
       "      <th>ip_dst</th>\n",
       "      <th>port_dst</th>\n",
       "      <th>protocol</th>\n",
       "    </tr>\n",
       "  </thead>\n",
       "  <tbody>\n",
       "    <tr>\n",
       "      <th>0</th>\n",
       "      <td>(65.55.163.78, 443, 192.168.50.7, 50458, 6)</td>\n",
       "      <td>2018-12-01 13:17:12.634572</td>\n",
       "      <td>BENIGN</td>\n",
       "      <td>3</td>\n",
       "      <td>3</td>\n",
       "      <td>0</td>\n",
       "      <td>0</td>\n",
       "      <td>0</td>\n",
       "      <td>1</td>\n",
       "      <td>1</td>\n",
       "      <td>2</td>\n",
       "      <td>0</td>\n",
       "      <td>0</td>\n",
       "      <td>3</td>\n",
       "      <td>0</td>\n",
       "      <td>3</td>\n",
       "      <td>0</td>\n",
       "      <td>0</td>\n",
       "      <td>0</td>\n",
       "      <td>20.0</td>\n",
       "      <td>60.0</td>\n",
       "      <td>3.0</td>\n",
       "      <td>241.0</td>\n",
       "      <td>0</td>\n",
       "      <td>0</td>\n",
       "      <td>0</td>\n",
       "      <td>0</td>\n",
       "      <td>0</td>\n",
       "      <td>0</td>\n",
       "      <td>0</td>\n",
       "      <td>0</td>\n",
       "      <td>0</td>\n",
       "      <td>0</td>\n",
       "      <td>0</td>\n",
       "      <td>0</td>\n",
       "      <td>0</td>\n",
       "      <td>0</td>\n",
       "      <td>0</td>\n",
       "      <td>0</td>\n",
       "      <td>0.0</td>\n",
       "      <td>0.0</td>\n",
       "      <td>0.0</td>\n",
       "      <td>0.0</td>\n",
       "      <td>1.0</td>\n",
       "      <td>2</td>\n",
       "      <td>0</td>\n",
       "      <td>0</td>\n",
       "      <td>2</td>\n",
       "      <td>0</td>\n",
       "      <td>2</td>\n",
       "      <td>0</td>\n",
       "      <td>0</td>\n",
       "      <td>0</td>\n",
       "      <td>20.0</td>\n",
       "      <td>60.000000</td>\n",
       "      <td>60</td>\n",
       "      <td>60</td>\n",
       "      <td>2.0</td>\n",
       "      <td>241.0</td>\n",
       "      <td>0</td>\n",
       "      <td>0</td>\n",
       "      <td>0</td>\n",
       "      <td>0</td>\n",
       "      <td>0</td>\n",
       "      <td>0</td>\n",
       "      <td>0</td>\n",
       "      <td>0</td>\n",
       "      <td>0</td>\n",
       "      <td>0.0</td>\n",
       "      <td>0.000000</td>\n",
       "      <td>0</td>\n",
       "      <td>0</td>\n",
       "      <td>0.0</td>\n",
       "      <td>0.0</td>\n",
       "      <td>0.0</td>\n",
       "      <td>0</td>\n",
       "      <td>65.55.163.78</td>\n",
       "      <td>443</td>\n",
       "      <td>192.168.50.7</td>\n",
       "      <td>50458</td>\n",
       "      <td>6</td>\n",
       "    </tr>\n",
       "    <tr>\n",
       "      <th>1</th>\n",
       "      <td>(65.55.163.78, 443, 192.168.50.7, 50465, 6)</td>\n",
       "      <td>2018-12-01 13:17:13.458373</td>\n",
       "      <td>BENIGN</td>\n",
       "      <td>4</td>\n",
       "      <td>4</td>\n",
       "      <td>0</td>\n",
       "      <td>0</td>\n",
       "      <td>0</td>\n",
       "      <td>1</td>\n",
       "      <td>1</td>\n",
       "      <td>2</td>\n",
       "      <td>0</td>\n",
       "      <td>0</td>\n",
       "      <td>4</td>\n",
       "      <td>0</td>\n",
       "      <td>4</td>\n",
       "      <td>0</td>\n",
       "      <td>0</td>\n",
       "      <td>0</td>\n",
       "      <td>20.0</td>\n",
       "      <td>60.0</td>\n",
       "      <td>4.0</td>\n",
       "      <td>241.0</td>\n",
       "      <td>0</td>\n",
       "      <td>0</td>\n",
       "      <td>0</td>\n",
       "      <td>0</td>\n",
       "      <td>0</td>\n",
       "      <td>0</td>\n",
       "      <td>0</td>\n",
       "      <td>0</td>\n",
       "      <td>0</td>\n",
       "      <td>0</td>\n",
       "      <td>0</td>\n",
       "      <td>0</td>\n",
       "      <td>0</td>\n",
       "      <td>0</td>\n",
       "      <td>0</td>\n",
       "      <td>0</td>\n",
       "      <td>0.0</td>\n",
       "      <td>0.0</td>\n",
       "      <td>0.0</td>\n",
       "      <td>0.0</td>\n",
       "      <td>1.0</td>\n",
       "      <td>2</td>\n",
       "      <td>0</td>\n",
       "      <td>0</td>\n",
       "      <td>2</td>\n",
       "      <td>0</td>\n",
       "      <td>2</td>\n",
       "      <td>0</td>\n",
       "      <td>0</td>\n",
       "      <td>0</td>\n",
       "      <td>20.0</td>\n",
       "      <td>60.000000</td>\n",
       "      <td>60</td>\n",
       "      <td>60</td>\n",
       "      <td>2.0</td>\n",
       "      <td>241.0</td>\n",
       "      <td>0</td>\n",
       "      <td>0</td>\n",
       "      <td>0</td>\n",
       "      <td>0</td>\n",
       "      <td>0</td>\n",
       "      <td>0</td>\n",
       "      <td>0</td>\n",
       "      <td>0</td>\n",
       "      <td>0</td>\n",
       "      <td>0.0</td>\n",
       "      <td>0.000000</td>\n",
       "      <td>0</td>\n",
       "      <td>0</td>\n",
       "      <td>0.0</td>\n",
       "      <td>0.0</td>\n",
       "      <td>0.0</td>\n",
       "      <td>0</td>\n",
       "      <td>65.55.163.78</td>\n",
       "      <td>443</td>\n",
       "      <td>192.168.50.7</td>\n",
       "      <td>50465</td>\n",
       "      <td>6</td>\n",
       "    </tr>\n",
       "    <tr>\n",
       "      <th>2</th>\n",
       "      <td>(172.16.0.5, 60675, 192.168.50.1, 80, 6)</td>\n",
       "      <td>2018-12-01 13:17:16.404686</td>\n",
       "      <td>DrDoS_NTP</td>\n",
       "      <td>26</td>\n",
       "      <td>26</td>\n",
       "      <td>0</td>\n",
       "      <td>0</td>\n",
       "      <td>0</td>\n",
       "      <td>1</td>\n",
       "      <td>3</td>\n",
       "      <td>1</td>\n",
       "      <td>2</td>\n",
       "      <td>6</td>\n",
       "      <td>0</td>\n",
       "      <td>6</td>\n",
       "      <td>20</td>\n",
       "      <td>0</td>\n",
       "      <td>0</td>\n",
       "      <td>0</td>\n",
       "      <td>20.0</td>\n",
       "      <td>171.0</td>\n",
       "      <td>5.2</td>\n",
       "      <td>63.0</td>\n",
       "      <td>20</td>\n",
       "      <td>20</td>\n",
       "      <td>0</td>\n",
       "      <td>0</td>\n",
       "      <td>0</td>\n",
       "      <td>1</td>\n",
       "      <td>1</td>\n",
       "      <td>3</td>\n",
       "      <td>2</td>\n",
       "      <td>6</td>\n",
       "      <td>0</td>\n",
       "      <td>6</td>\n",
       "      <td>20</td>\n",
       "      <td>0</td>\n",
       "      <td>0</td>\n",
       "      <td>0</td>\n",
       "      <td>20.0</td>\n",
       "      <td>390.2</td>\n",
       "      <td>4.0</td>\n",
       "      <td>64.0</td>\n",
       "      <td>5.0</td>\n",
       "      <td>14</td>\n",
       "      <td>2</td>\n",
       "      <td>2</td>\n",
       "      <td>0</td>\n",
       "      <td>4</td>\n",
       "      <td>12</td>\n",
       "      <td>0</td>\n",
       "      <td>0</td>\n",
       "      <td>0</td>\n",
       "      <td>20.0</td>\n",
       "      <td>204.857143</td>\n",
       "      <td>575</td>\n",
       "      <td>66</td>\n",
       "      <td>2.8</td>\n",
       "      <td>63.0</td>\n",
       "      <td>12</td>\n",
       "      <td>2</td>\n",
       "      <td>2</td>\n",
       "      <td>0</td>\n",
       "      <td>4</td>\n",
       "      <td>12</td>\n",
       "      <td>0</td>\n",
       "      <td>0</td>\n",
       "      <td>0</td>\n",
       "      <td>20.0</td>\n",
       "      <td>424.833333</td>\n",
       "      <td>1139</td>\n",
       "      <td>66</td>\n",
       "      <td>2.4</td>\n",
       "      <td>64.0</td>\n",
       "      <td>5.0</td>\n",
       "      <td>1</td>\n",
       "      <td>172.16.0.5</td>\n",
       "      <td>60675</td>\n",
       "      <td>192.168.50.1</td>\n",
       "      <td>80</td>\n",
       "      <td>6</td>\n",
       "    </tr>\n",
       "    <tr>\n",
       "      <th>3</th>\n",
       "      <td>(192.168.50.1, 80, 172.16.0.5, 60675, 6)</td>\n",
       "      <td>2018-12-01 13:17:16.404865</td>\n",
       "      <td>DrDoS_NTP</td>\n",
       "      <td>20</td>\n",
       "      <td>20</td>\n",
       "      <td>0</td>\n",
       "      <td>0</td>\n",
       "      <td>0</td>\n",
       "      <td>1</td>\n",
       "      <td>1</td>\n",
       "      <td>3</td>\n",
       "      <td>2</td>\n",
       "      <td>6</td>\n",
       "      <td>0</td>\n",
       "      <td>6</td>\n",
       "      <td>20</td>\n",
       "      <td>0</td>\n",
       "      <td>0</td>\n",
       "      <td>0</td>\n",
       "      <td>20.0</td>\n",
       "      <td>390.2</td>\n",
       "      <td>4.0</td>\n",
       "      <td>64.0</td>\n",
       "      <td>26</td>\n",
       "      <td>26</td>\n",
       "      <td>0</td>\n",
       "      <td>0</td>\n",
       "      <td>0</td>\n",
       "      <td>1</td>\n",
       "      <td>3</td>\n",
       "      <td>1</td>\n",
       "      <td>2</td>\n",
       "      <td>6</td>\n",
       "      <td>0</td>\n",
       "      <td>6</td>\n",
       "      <td>20</td>\n",
       "      <td>0</td>\n",
       "      <td>0</td>\n",
       "      <td>0</td>\n",
       "      <td>20.0</td>\n",
       "      <td>171.0</td>\n",
       "      <td>5.2</td>\n",
       "      <td>63.0</td>\n",
       "      <td>5.0</td>\n",
       "      <td>12</td>\n",
       "      <td>2</td>\n",
       "      <td>2</td>\n",
       "      <td>0</td>\n",
       "      <td>4</td>\n",
       "      <td>12</td>\n",
       "      <td>0</td>\n",
       "      <td>0</td>\n",
       "      <td>0</td>\n",
       "      <td>20.0</td>\n",
       "      <td>424.833333</td>\n",
       "      <td>1139</td>\n",
       "      <td>66</td>\n",
       "      <td>2.4</td>\n",
       "      <td>64.0</td>\n",
       "      <td>14</td>\n",
       "      <td>2</td>\n",
       "      <td>2</td>\n",
       "      <td>0</td>\n",
       "      <td>4</td>\n",
       "      <td>12</td>\n",
       "      <td>0</td>\n",
       "      <td>0</td>\n",
       "      <td>0</td>\n",
       "      <td>20.0</td>\n",
       "      <td>204.857143</td>\n",
       "      <td>575</td>\n",
       "      <td>66</td>\n",
       "      <td>2.8</td>\n",
       "      <td>63.0</td>\n",
       "      <td>5.0</td>\n",
       "      <td>1</td>\n",
       "      <td>192.168.50.1</td>\n",
       "      <td>80</td>\n",
       "      <td>172.16.0.5</td>\n",
       "      <td>60675</td>\n",
       "      <td>6</td>\n",
       "    </tr>\n",
       "    <tr>\n",
       "      <th>4</th>\n",
       "      <td>(172.16.0.5, 60675, 192.168.50.1, 80, 6)</td>\n",
       "      <td>2018-12-01 13:17:16.404963</td>\n",
       "      <td>DrDoS_NTP</td>\n",
       "      <td>26</td>\n",
       "      <td>26</td>\n",
       "      <td>0</td>\n",
       "      <td>0</td>\n",
       "      <td>0</td>\n",
       "      <td>1</td>\n",
       "      <td>3</td>\n",
       "      <td>1</td>\n",
       "      <td>2</td>\n",
       "      <td>6</td>\n",
       "      <td>0</td>\n",
       "      <td>6</td>\n",
       "      <td>20</td>\n",
       "      <td>0</td>\n",
       "      <td>0</td>\n",
       "      <td>0</td>\n",
       "      <td>20.0</td>\n",
       "      <td>171.0</td>\n",
       "      <td>5.2</td>\n",
       "      <td>63.0</td>\n",
       "      <td>20</td>\n",
       "      <td>20</td>\n",
       "      <td>0</td>\n",
       "      <td>0</td>\n",
       "      <td>0</td>\n",
       "      <td>1</td>\n",
       "      <td>1</td>\n",
       "      <td>3</td>\n",
       "      <td>2</td>\n",
       "      <td>6</td>\n",
       "      <td>0</td>\n",
       "      <td>6</td>\n",
       "      <td>20</td>\n",
       "      <td>0</td>\n",
       "      <td>0</td>\n",
       "      <td>0</td>\n",
       "      <td>20.0</td>\n",
       "      <td>390.2</td>\n",
       "      <td>4.0</td>\n",
       "      <td>64.0</td>\n",
       "      <td>5.0</td>\n",
       "      <td>14</td>\n",
       "      <td>2</td>\n",
       "      <td>2</td>\n",
       "      <td>0</td>\n",
       "      <td>4</td>\n",
       "      <td>12</td>\n",
       "      <td>0</td>\n",
       "      <td>0</td>\n",
       "      <td>0</td>\n",
       "      <td>20.0</td>\n",
       "      <td>204.857143</td>\n",
       "      <td>575</td>\n",
       "      <td>66</td>\n",
       "      <td>2.8</td>\n",
       "      <td>63.0</td>\n",
       "      <td>12</td>\n",
       "      <td>2</td>\n",
       "      <td>2</td>\n",
       "      <td>0</td>\n",
       "      <td>4</td>\n",
       "      <td>12</td>\n",
       "      <td>0</td>\n",
       "      <td>0</td>\n",
       "      <td>0</td>\n",
       "      <td>20.0</td>\n",
       "      <td>424.833333</td>\n",
       "      <td>1139</td>\n",
       "      <td>66</td>\n",
       "      <td>2.4</td>\n",
       "      <td>64.0</td>\n",
       "      <td>5.0</td>\n",
       "      <td>1</td>\n",
       "      <td>172.16.0.5</td>\n",
       "      <td>60675</td>\n",
       "      <td>192.168.50.1</td>\n",
       "      <td>80</td>\n",
       "      <td>6</td>\n",
       "    </tr>\n",
       "  </tbody>\n",
       "</table>\n",
       "</div>"
      ],
      "text/plain": [
       "                                      flow_key              lst_timestamp  \\\n",
       "0  (65.55.163.78, 443, 192.168.50.7, 50458, 6) 2018-12-01 13:17:12.634572   \n",
       "1  (65.55.163.78, 443, 192.168.50.7, 50465, 6) 2018-12-01 13:17:13.458373   \n",
       "2     (172.16.0.5, 60675, 192.168.50.1, 80, 6) 2018-12-01 13:17:16.404686   \n",
       "3     (192.168.50.1, 80, 172.16.0.5, 60675, 6) 2018-12-01 13:17:16.404865   \n",
       "4     (172.16.0.5, 60675, 192.168.50.1, 80, 6) 2018-12-01 13:17:16.404963   \n",
       "\n",
       "       label  tt_fwd_qt_pkt  tt_fwd_qt_pkt_tcp  tt_fwd_qt_pkt_udp  \\\n",
       "0     BENIGN              3                  3                  0   \n",
       "1     BENIGN              4                  4                  0   \n",
       "2  DrDoS_NTP             26                 26                  0   \n",
       "3  DrDoS_NTP             20                 20                  0   \n",
       "4  DrDoS_NTP             26                 26                  0   \n",
       "\n",
       "   tt_fwd_qt_pkt_icmp  tt_fwd_qt_pkt_ip  tt_fwd_qt_prtcl  tt_fwd_qt_src_prt  \\\n",
       "0                   0                 0                1                  1   \n",
       "1                   0                 0                1                  1   \n",
       "2                   0                 0                1                  3   \n",
       "3                   0                 0                1                  1   \n",
       "4                   0                 0                1                  3   \n",
       "\n",
       "   tt_fwd_qt_dst_prt  tt_fwd_qt_fin_fl  tt_fwd_qt_syn_fl  tt_fwd_qt_res_fl  \\\n",
       "0                  2                 0                 0                 3   \n",
       "1                  2                 0                 0                 4   \n",
       "2                  1                 2                 6                 0   \n",
       "3                  3                 2                 6                 0   \n",
       "4                  1                 2                 6                 0   \n",
       "\n",
       "   tt_fwd_qt_psh_fl  tt_fwd_qt_ack_fl  tt_fwd_qt_urg_fl  tt_fwd_qt_ecn_fl  \\\n",
       "0                 0                 3                 0                 0   \n",
       "1                 0                 4                 0                 0   \n",
       "2                 6                20                 0                 0   \n",
       "3                 6                20                 0                 0   \n",
       "4                 6                20                 0                 0   \n",
       "\n",
       "   tt_fwd_qt_cwr_fl  tt_fwd_avg_hdr_len  tt_fwd_avg_pkt_len  tt_fwd_frq_pkt  \\\n",
       "0                 0                20.0                60.0             3.0   \n",
       "1                 0                20.0                60.0             4.0   \n",
       "2                 0                20.0               171.0             5.2   \n",
       "3                 0                20.0               390.2             4.0   \n",
       "4                 0                20.0               171.0             5.2   \n",
       "\n",
       "   tt_fwd_avg_ttl  tt_bck_qt_pkt  tt_bck_qt_pkt_tcp  tt_bck_qt_pkt_udp  \\\n",
       "0           241.0              0                  0                  0   \n",
       "1           241.0              0                  0                  0   \n",
       "2            63.0             20                 20                  0   \n",
       "3            64.0             26                 26                  0   \n",
       "4            63.0             20                 20                  0   \n",
       "\n",
       "   tt_bck_qt_pkt_icmp  tt_bck_qt_pkt_ip  tt_bck_qt_prtcl  tt_bck_qt_src_prt  \\\n",
       "0                   0                 0                0                  0   \n",
       "1                   0                 0                0                  0   \n",
       "2                   0                 0                1                  1   \n",
       "3                   0                 0                1                  3   \n",
       "4                   0                 0                1                  1   \n",
       "\n",
       "   tt_bck_qt_dst_prt  tt_bck_qt_fin_fl  tt_bck_qt_syn_fl  tt_bck_qt_res_fl  \\\n",
       "0                  0                 0                 0                 0   \n",
       "1                  0                 0                 0                 0   \n",
       "2                  3                 2                 6                 0   \n",
       "3                  1                 2                 6                 0   \n",
       "4                  3                 2                 6                 0   \n",
       "\n",
       "   tt_bck_qt_psh_fl  tt_bck_qt_ack_fl  tt_bck_qt_urg_fl  tt_bck_qt_ecn_fl  \\\n",
       "0                 0                 0                 0                 0   \n",
       "1                 0                 0                 0                 0   \n",
       "2                 6                20                 0                 0   \n",
       "3                 6                20                 0                 0   \n",
       "4                 6                20                 0                 0   \n",
       "\n",
       "   tt_bck_qt_cwr_fl  tt_bck_avg_hdr_len  tt_bck_avg_pkt_len  tt_bck_frq_pkt  \\\n",
       "0                 0                 0.0                 0.0             0.0   \n",
       "1                 0                 0.0                 0.0             0.0   \n",
       "2                 0                20.0               390.2             4.0   \n",
       "3                 0                20.0               171.0             5.2   \n",
       "4                 0                20.0               390.2             4.0   \n",
       "\n",
       "   tt_bck_avg_ttl  tt_tm_dur_s  ft_fwd_qt_pkt  ft_fwd_qt_fin_fl  \\\n",
       "0             0.0          1.0              2                 0   \n",
       "1             0.0          1.0              2                 0   \n",
       "2            64.0          5.0             14                 2   \n",
       "3            63.0          5.0             12                 2   \n",
       "4            64.0          5.0             14                 2   \n",
       "\n",
       "   ft_fwd_qt_syn_fl  ft_fwd_qt_res_fl  ft_fwd_qt_psh_fl  ft_fwd_qt_ack_fl  \\\n",
       "0                 0                 2                 0                 2   \n",
       "1                 0                 2                 0                 2   \n",
       "2                 2                 0                 4                12   \n",
       "3                 2                 0                 4                12   \n",
       "4                 2                 0                 4                12   \n",
       "\n",
       "   ft_fwd_qt_urg_fl  ft_fwd_qt_ecn_fl  ft_fwd_qt_cwr_fl  ft_fwd_avg_hdr_len  \\\n",
       "0                 0                 0                 0                20.0   \n",
       "1                 0                 0                 0                20.0   \n",
       "2                 0                 0                 0                20.0   \n",
       "3                 0                 0                 0                20.0   \n",
       "4                 0                 0                 0                20.0   \n",
       "\n",
       "   ft_fwd_avg_pkt_len  ft_fwd_max_pkt_len  ft_fwd_min_pkt_len  ft_fwd_frq_pkt  \\\n",
       "0           60.000000                  60                  60             2.0   \n",
       "1           60.000000                  60                  60             2.0   \n",
       "2          204.857143                 575                  66             2.8   \n",
       "3          424.833333                1139                  66             2.4   \n",
       "4          204.857143                 575                  66             2.8   \n",
       "\n",
       "   ft_fwd_avg_ttl  ft_bck_qt_pkt  ft_bck_qt_fin_fl  ft_bck_qt_syn_fl  \\\n",
       "0           241.0              0                 0                 0   \n",
       "1           241.0              0                 0                 0   \n",
       "2            63.0             12                 2                 2   \n",
       "3            64.0             14                 2                 2   \n",
       "4            63.0             12                 2                 2   \n",
       "\n",
       "   ft_bck_qt_res_fl  ft_bck_qt_psh_fl  ft_bck_qt_ack_fl  ft_bck_qt_urg_fl  \\\n",
       "0                 0                 0                 0                 0   \n",
       "1                 0                 0                 0                 0   \n",
       "2                 0                 4                12                 0   \n",
       "3                 0                 4                12                 0   \n",
       "4                 0                 4                12                 0   \n",
       "\n",
       "   ft_bck_qt_ecn_fl  ft_bck_qt_cwr_fl  ft_bck_avg_hdr_len  ft_bck_avg_pkt_len  \\\n",
       "0                 0                 0                 0.0            0.000000   \n",
       "1                 0                 0                 0.0            0.000000   \n",
       "2                 0                 0                20.0          424.833333   \n",
       "3                 0                 0                20.0          204.857143   \n",
       "4                 0                 0                20.0          424.833333   \n",
       "\n",
       "   ft_bck_max_pkt_len  ft_bck_min_pkt_len  ft_bck_frq_pkt  ft_bck_avg_ttl  \\\n",
       "0                   0                   0             0.0             0.0   \n",
       "1                   0                   0             0.0             0.0   \n",
       "2                1139                  66             2.4            64.0   \n",
       "3                 575                  66             2.8            63.0   \n",
       "4                1139                  66             2.4            64.0   \n",
       "\n",
       "   ft_tm_dur_s  attack        ip_src  port_src        ip_dst  port_dst  \\\n",
       "0          0.0       0  65.55.163.78       443  192.168.50.7     50458   \n",
       "1          0.0       0  65.55.163.78       443  192.168.50.7     50465   \n",
       "2          5.0       1    172.16.0.5     60675  192.168.50.1        80   \n",
       "3          5.0       1  192.168.50.1        80    172.16.0.5     60675   \n",
       "4          5.0       1    172.16.0.5     60675  192.168.50.1        80   \n",
       "\n",
       "   protocol  \n",
       "0         6  \n",
       "1         6  \n",
       "2         6  \n",
       "3         6  \n",
       "4         6  "
      ]
     },
     "execution_count": 11,
     "metadata": {},
     "output_type": "execute_result"
    }
   ],
   "source": [
    "data['ip_src'] = data.flow_key.apply(lambda x: x[0])\n",
    "data['port_src'] = data.flow_key.apply(lambda x: x[1])\n",
    "data['ip_dst'] = data.flow_key.apply(lambda x: x[2])\n",
    "data['port_dst'] = data.flow_key.apply(lambda x: x[3])\n",
    "data['protocol'] = data.flow_key.apply(lambda x: x[4])\n",
    "data.head()"
   ]
  },
  {
   "cell_type": "code",
   "execution_count": 12,
   "metadata": {},
   "outputs": [
    {
     "name": "stdout",
     "output_type": "stream",
     "text": [
      "(1118, 3)\n"
     ]
    },
    {
     "data": {
      "text/html": [
       "<div>\n",
       "<style scoped>\n",
       "    .dataframe tbody tr th:only-of-type {\n",
       "        vertical-align: middle;\n",
       "    }\n",
       "\n",
       "    .dataframe tbody tr th {\n",
       "        vertical-align: top;\n",
       "    }\n",
       "\n",
       "    .dataframe thead th {\n",
       "        text-align: right;\n",
       "    }\n",
       "</style>\n",
       "<table border=\"1\" class=\"dataframe\">\n",
       "  <thead>\n",
       "    <tr style=\"text-align: right;\">\n",
       "      <th></th>\n",
       "      <th>ip_src</th>\n",
       "      <th>ip_dst</th>\n",
       "      <th>0</th>\n",
       "    </tr>\n",
       "  </thead>\n",
       "  <tbody>\n",
       "    <tr>\n",
       "      <th>0</th>\n",
       "      <td>0.0.0.0</td>\n",
       "      <td>255.255.255.255</td>\n",
       "      <td>23</td>\n",
       "    </tr>\n",
       "    <tr>\n",
       "      <th>1</th>\n",
       "      <td>104.117.0.160</td>\n",
       "      <td>192.168.50.7</td>\n",
       "      <td>1</td>\n",
       "    </tr>\n",
       "    <tr>\n",
       "      <th>2</th>\n",
       "      <td>104.118.6.139</td>\n",
       "      <td>192.168.50.7</td>\n",
       "      <td>1</td>\n",
       "    </tr>\n",
       "    <tr>\n",
       "      <th>3</th>\n",
       "      <td>104.18.58.178</td>\n",
       "      <td>192.168.50.7</td>\n",
       "      <td>6</td>\n",
       "    </tr>\n",
       "    <tr>\n",
       "      <th>4</th>\n",
       "      <td>104.18.58.178</td>\n",
       "      <td>192.168.50.8</td>\n",
       "      <td>1</td>\n",
       "    </tr>\n",
       "  </tbody>\n",
       "</table>\n",
       "</div>"
      ],
      "text/plain": [
       "          ip_src           ip_dst   0\n",
       "0        0.0.0.0  255.255.255.255  23\n",
       "1  104.117.0.160     192.168.50.7   1\n",
       "2  104.118.6.139     192.168.50.7   1\n",
       "3  104.18.58.178     192.168.50.7   6\n",
       "4  104.18.58.178     192.168.50.8   1"
      ]
     },
     "execution_count": 12,
     "metadata": {},
     "output_type": "execute_result"
    }
   ],
   "source": [
    "unique_keys = data.groupby(['ip_src', 'ip_dst']).size().reset_index()\n",
    "print(unique_keys.shape)\n",
    "unique_keys.head()"
   ]
  },
  {
   "cell_type": "code",
   "execution_count": 13,
   "metadata": {},
   "outputs": [
    {
     "name": "stdout",
     "output_type": "stream",
     "text": [
      "(1118, 4)\n"
     ]
    },
    {
     "data": {
      "text/html": [
       "<div>\n",
       "<style scoped>\n",
       "    .dataframe tbody tr th:only-of-type {\n",
       "        vertical-align: middle;\n",
       "    }\n",
       "\n",
       "    .dataframe tbody tr th {\n",
       "        vertical-align: top;\n",
       "    }\n",
       "\n",
       "    .dataframe thead th {\n",
       "        text-align: right;\n",
       "    }\n",
       "</style>\n",
       "<table border=\"1\" class=\"dataframe\">\n",
       "  <thead>\n",
       "    <tr style=\"text-align: right;\">\n",
       "      <th></th>\n",
       "      <th>ip_src</th>\n",
       "      <th>ip_dst</th>\n",
       "      <th>attack</th>\n",
       "      <th>0</th>\n",
       "    </tr>\n",
       "  </thead>\n",
       "  <tbody>\n",
       "    <tr>\n",
       "      <th>0</th>\n",
       "      <td>0.0.0.0</td>\n",
       "      <td>255.255.255.255</td>\n",
       "      <td>0</td>\n",
       "      <td>23</td>\n",
       "    </tr>\n",
       "    <tr>\n",
       "      <th>1</th>\n",
       "      <td>104.117.0.160</td>\n",
       "      <td>192.168.50.7</td>\n",
       "      <td>0</td>\n",
       "      <td>1</td>\n",
       "    </tr>\n",
       "    <tr>\n",
       "      <th>2</th>\n",
       "      <td>104.118.6.139</td>\n",
       "      <td>192.168.50.7</td>\n",
       "      <td>0</td>\n",
       "      <td>1</td>\n",
       "    </tr>\n",
       "    <tr>\n",
       "      <th>3</th>\n",
       "      <td>104.18.58.178</td>\n",
       "      <td>192.168.50.7</td>\n",
       "      <td>0</td>\n",
       "      <td>6</td>\n",
       "    </tr>\n",
       "    <tr>\n",
       "      <th>4</th>\n",
       "      <td>104.18.58.178</td>\n",
       "      <td>192.168.50.8</td>\n",
       "      <td>0</td>\n",
       "      <td>1</td>\n",
       "    </tr>\n",
       "  </tbody>\n",
       "</table>\n",
       "</div>"
      ],
      "text/plain": [
       "          ip_src           ip_dst  attack   0\n",
       "0        0.0.0.0  255.255.255.255       0  23\n",
       "1  104.117.0.160     192.168.50.7       0   1\n",
       "2  104.118.6.139     192.168.50.7       0   1\n",
       "3  104.18.58.178     192.168.50.7       0   6\n",
       "4  104.18.58.178     192.168.50.8       0   1"
      ]
     },
     "execution_count": 13,
     "metadata": {},
     "output_type": "execute_result"
    }
   ],
   "source": [
    "unique_keys = data.groupby(['ip_src', 'ip_dst', 'attack']).size().reset_index()\n",
    "print(unique_keys.shape)\n",
    "unique_keys.head()"
   ]
  },
  {
   "cell_type": "code",
   "execution_count": 14,
   "metadata": {},
   "outputs": [
    {
     "data": {
      "text/html": [
       "<div>\n",
       "<style scoped>\n",
       "    .dataframe tbody tr th:only-of-type {\n",
       "        vertical-align: middle;\n",
       "    }\n",
       "\n",
       "    .dataframe tbody tr th {\n",
       "        vertical-align: top;\n",
       "    }\n",
       "\n",
       "    .dataframe thead th {\n",
       "        text-align: right;\n",
       "    }\n",
       "</style>\n",
       "<table border=\"1\" class=\"dataframe\">\n",
       "  <thead>\n",
       "    <tr style=\"text-align: right;\">\n",
       "      <th></th>\n",
       "      <th>ip_src</th>\n",
       "      <th>ip_dst</th>\n",
       "      <th>attack</th>\n",
       "      <th>0</th>\n",
       "    </tr>\n",
       "  </thead>\n",
       "  <tbody>\n",
       "    <tr>\n",
       "      <th>30</th>\n",
       "      <td>172.16.0.5</td>\n",
       "      <td>192.168.50.1</td>\n",
       "      <td>1</td>\n",
       "      <td>1200595</td>\n",
       "    </tr>\n",
       "    <tr>\n",
       "      <th>248</th>\n",
       "      <td>192.168.50.1</td>\n",
       "      <td>172.16.0.5</td>\n",
       "      <td>1</td>\n",
       "      <td>2047</td>\n",
       "    </tr>\n",
       "  </tbody>\n",
       "</table>\n",
       "</div>"
      ],
      "text/plain": [
       "           ip_src        ip_dst  attack        0\n",
       "30     172.16.0.5  192.168.50.1       1  1200595\n",
       "248  192.168.50.1    172.16.0.5       1     2047"
      ]
     },
     "execution_count": 14,
     "metadata": {},
     "output_type": "execute_result"
    }
   ],
   "source": [
    "unique_keys[unique_keys.attack == 1]"
   ]
  },
  {
   "cell_type": "markdown",
   "metadata": {},
   "source": [
    "### Modelling decision\n",
    "\n",
    "Normaly I would separate my train and validation between unique keys, since the most important variables are from the 2-tuple dictionary (it can be seen from the Pearson correlation coefficients in the previous notebook). But, there is only one bidirectional attack flow. So I will split my train and validation on time."
   ]
  },
  {
   "cell_type": "code",
   "execution_count": 15,
   "metadata": {},
   "outputs": [
    {
     "data": {
      "text/plain": [
       "count                        1217007\n",
       "unique                       1214353\n",
       "top       2018-12-01 14:41:50.370151\n",
       "freq                               2\n",
       "first     2018-12-01 13:17:12.634572\n",
       "last      2018-12-01 14:51:39.813446\n",
       "Name: lst_timestamp, dtype: object"
      ]
     },
     "execution_count": 15,
     "metadata": {},
     "output_type": "execute_result"
    }
   ],
   "source": [
    "data.lst_timestamp.describe()"
   ]
  },
  {
   "cell_type": "code",
   "execution_count": 16,
   "metadata": {},
   "outputs": [
    {
     "data": {
      "text/plain": [
       "14365"
      ]
     },
     "execution_count": 16,
     "metadata": {},
     "output_type": "execute_result"
    }
   ],
   "source": [
    "unique_keys[unique_keys.attack == 0][0].sum()"
   ]
  },
  {
   "cell_type": "code",
   "execution_count": 17,
   "metadata": {},
   "outputs": [
    {
     "name": "stdout",
     "output_type": "stream",
     "text": [
      "(567638, 81)\n",
      "(649369, 81)\n"
     ]
    }
   ],
   "source": [
    "train_test_threshold = datetime(2018, 12, 1, 14, 40, 0)\n",
    "data_train = data[data.lst_timestamp <= train_test_threshold]\n",
    "data_valid = data[data.lst_timestamp > train_test_threshold]\n",
    "print(data_train.shape)\n",
    "print(data_valid.shape)"
   ]
  },
  {
   "cell_type": "code",
   "execution_count": 18,
   "metadata": {},
   "outputs": [],
   "source": [
    "X_train, y_train = data_train.iloc[:, 3:-6], data_train.attack\n",
    "X_valid, y_valid = data_valid.iloc[:, 3:-6], data_valid.attack"
   ]
  },
  {
   "cell_type": "code",
   "execution_count": 19,
   "metadata": {},
   "outputs": [
    {
     "data": {
      "text/html": [
       "<div>\n",
       "<style scoped>\n",
       "    .dataframe tbody tr th:only-of-type {\n",
       "        vertical-align: middle;\n",
       "    }\n",
       "\n",
       "    .dataframe tbody tr th {\n",
       "        vertical-align: top;\n",
       "    }\n",
       "\n",
       "    .dataframe thead th {\n",
       "        text-align: right;\n",
       "    }\n",
       "</style>\n",
       "<table border=\"1\" class=\"dataframe\">\n",
       "  <thead>\n",
       "    <tr style=\"text-align: right;\">\n",
       "      <th></th>\n",
       "      <th>tt_fwd_qt_pkt</th>\n",
       "      <th>tt_fwd_qt_pkt_tcp</th>\n",
       "      <th>tt_fwd_qt_pkt_udp</th>\n",
       "      <th>tt_fwd_qt_pkt_icmp</th>\n",
       "      <th>tt_fwd_qt_pkt_ip</th>\n",
       "      <th>tt_fwd_qt_prtcl</th>\n",
       "      <th>tt_fwd_qt_src_prt</th>\n",
       "      <th>tt_fwd_qt_dst_prt</th>\n",
       "      <th>tt_fwd_qt_fin_fl</th>\n",
       "      <th>tt_fwd_qt_syn_fl</th>\n",
       "      <th>tt_fwd_qt_res_fl</th>\n",
       "      <th>tt_fwd_qt_psh_fl</th>\n",
       "      <th>tt_fwd_qt_ack_fl</th>\n",
       "      <th>tt_fwd_qt_urg_fl</th>\n",
       "      <th>tt_fwd_qt_ecn_fl</th>\n",
       "      <th>tt_fwd_qt_cwr_fl</th>\n",
       "      <th>tt_fwd_avg_hdr_len</th>\n",
       "      <th>tt_fwd_avg_pkt_len</th>\n",
       "      <th>tt_fwd_frq_pkt</th>\n",
       "      <th>tt_fwd_avg_ttl</th>\n",
       "      <th>tt_bck_qt_pkt</th>\n",
       "      <th>tt_bck_qt_pkt_tcp</th>\n",
       "      <th>tt_bck_qt_pkt_udp</th>\n",
       "      <th>tt_bck_qt_pkt_icmp</th>\n",
       "      <th>tt_bck_qt_pkt_ip</th>\n",
       "      <th>tt_bck_qt_prtcl</th>\n",
       "      <th>tt_bck_qt_src_prt</th>\n",
       "      <th>tt_bck_qt_dst_prt</th>\n",
       "      <th>tt_bck_qt_fin_fl</th>\n",
       "      <th>tt_bck_qt_syn_fl</th>\n",
       "      <th>tt_bck_qt_res_fl</th>\n",
       "      <th>tt_bck_qt_psh_fl</th>\n",
       "      <th>tt_bck_qt_ack_fl</th>\n",
       "      <th>tt_bck_qt_urg_fl</th>\n",
       "      <th>tt_bck_qt_ecn_fl</th>\n",
       "      <th>tt_bck_qt_cwr_fl</th>\n",
       "      <th>tt_bck_avg_hdr_len</th>\n",
       "      <th>tt_bck_avg_pkt_len</th>\n",
       "      <th>tt_bck_frq_pkt</th>\n",
       "      <th>tt_bck_avg_ttl</th>\n",
       "      <th>tt_tm_dur_s</th>\n",
       "      <th>ft_fwd_qt_pkt</th>\n",
       "      <th>ft_fwd_qt_fin_fl</th>\n",
       "      <th>ft_fwd_qt_syn_fl</th>\n",
       "      <th>ft_fwd_qt_res_fl</th>\n",
       "      <th>ft_fwd_qt_psh_fl</th>\n",
       "      <th>ft_fwd_qt_ack_fl</th>\n",
       "      <th>ft_fwd_qt_urg_fl</th>\n",
       "      <th>ft_fwd_qt_ecn_fl</th>\n",
       "      <th>ft_fwd_qt_cwr_fl</th>\n",
       "      <th>ft_fwd_avg_hdr_len</th>\n",
       "      <th>ft_fwd_avg_pkt_len</th>\n",
       "      <th>ft_fwd_max_pkt_len</th>\n",
       "      <th>ft_fwd_min_pkt_len</th>\n",
       "      <th>ft_fwd_frq_pkt</th>\n",
       "      <th>ft_fwd_avg_ttl</th>\n",
       "      <th>ft_bck_qt_pkt</th>\n",
       "      <th>ft_bck_qt_fin_fl</th>\n",
       "      <th>ft_bck_qt_syn_fl</th>\n",
       "      <th>ft_bck_qt_res_fl</th>\n",
       "      <th>ft_bck_qt_psh_fl</th>\n",
       "      <th>ft_bck_qt_ack_fl</th>\n",
       "      <th>ft_bck_qt_urg_fl</th>\n",
       "      <th>ft_bck_qt_ecn_fl</th>\n",
       "      <th>ft_bck_qt_cwr_fl</th>\n",
       "      <th>ft_bck_avg_hdr_len</th>\n",
       "      <th>ft_bck_avg_pkt_len</th>\n",
       "      <th>ft_bck_max_pkt_len</th>\n",
       "      <th>ft_bck_min_pkt_len</th>\n",
       "      <th>ft_bck_frq_pkt</th>\n",
       "      <th>ft_bck_avg_ttl</th>\n",
       "      <th>ft_tm_dur_s</th>\n",
       "    </tr>\n",
       "  </thead>\n",
       "  <tbody>\n",
       "    <tr>\n",
       "      <th>0</th>\n",
       "      <td>3</td>\n",
       "      <td>3</td>\n",
       "      <td>0</td>\n",
       "      <td>0</td>\n",
       "      <td>0</td>\n",
       "      <td>1</td>\n",
       "      <td>1</td>\n",
       "      <td>2</td>\n",
       "      <td>0</td>\n",
       "      <td>0</td>\n",
       "      <td>3</td>\n",
       "      <td>0</td>\n",
       "      <td>3</td>\n",
       "      <td>0</td>\n",
       "      <td>0</td>\n",
       "      <td>0</td>\n",
       "      <td>20.0</td>\n",
       "      <td>60.0</td>\n",
       "      <td>3.0</td>\n",
       "      <td>241.0</td>\n",
       "      <td>0</td>\n",
       "      <td>0</td>\n",
       "      <td>0</td>\n",
       "      <td>0</td>\n",
       "      <td>0</td>\n",
       "      <td>0</td>\n",
       "      <td>0</td>\n",
       "      <td>0</td>\n",
       "      <td>0</td>\n",
       "      <td>0</td>\n",
       "      <td>0</td>\n",
       "      <td>0</td>\n",
       "      <td>0</td>\n",
       "      <td>0</td>\n",
       "      <td>0</td>\n",
       "      <td>0</td>\n",
       "      <td>0.0</td>\n",
       "      <td>0.0</td>\n",
       "      <td>0.0</td>\n",
       "      <td>0.0</td>\n",
       "      <td>1.0</td>\n",
       "      <td>2</td>\n",
       "      <td>0</td>\n",
       "      <td>0</td>\n",
       "      <td>2</td>\n",
       "      <td>0</td>\n",
       "      <td>2</td>\n",
       "      <td>0</td>\n",
       "      <td>0</td>\n",
       "      <td>0</td>\n",
       "      <td>20.0</td>\n",
       "      <td>60.000000</td>\n",
       "      <td>60</td>\n",
       "      <td>60</td>\n",
       "      <td>2.0</td>\n",
       "      <td>241.0</td>\n",
       "      <td>0</td>\n",
       "      <td>0</td>\n",
       "      <td>0</td>\n",
       "      <td>0</td>\n",
       "      <td>0</td>\n",
       "      <td>0</td>\n",
       "      <td>0</td>\n",
       "      <td>0</td>\n",
       "      <td>0</td>\n",
       "      <td>0.0</td>\n",
       "      <td>0.000000</td>\n",
       "      <td>0</td>\n",
       "      <td>0</td>\n",
       "      <td>0.0</td>\n",
       "      <td>0.0</td>\n",
       "      <td>0.0</td>\n",
       "    </tr>\n",
       "    <tr>\n",
       "      <th>1</th>\n",
       "      <td>4</td>\n",
       "      <td>4</td>\n",
       "      <td>0</td>\n",
       "      <td>0</td>\n",
       "      <td>0</td>\n",
       "      <td>1</td>\n",
       "      <td>1</td>\n",
       "      <td>2</td>\n",
       "      <td>0</td>\n",
       "      <td>0</td>\n",
       "      <td>4</td>\n",
       "      <td>0</td>\n",
       "      <td>4</td>\n",
       "      <td>0</td>\n",
       "      <td>0</td>\n",
       "      <td>0</td>\n",
       "      <td>20.0</td>\n",
       "      <td>60.0</td>\n",
       "      <td>4.0</td>\n",
       "      <td>241.0</td>\n",
       "      <td>0</td>\n",
       "      <td>0</td>\n",
       "      <td>0</td>\n",
       "      <td>0</td>\n",
       "      <td>0</td>\n",
       "      <td>0</td>\n",
       "      <td>0</td>\n",
       "      <td>0</td>\n",
       "      <td>0</td>\n",
       "      <td>0</td>\n",
       "      <td>0</td>\n",
       "      <td>0</td>\n",
       "      <td>0</td>\n",
       "      <td>0</td>\n",
       "      <td>0</td>\n",
       "      <td>0</td>\n",
       "      <td>0.0</td>\n",
       "      <td>0.0</td>\n",
       "      <td>0.0</td>\n",
       "      <td>0.0</td>\n",
       "      <td>1.0</td>\n",
       "      <td>2</td>\n",
       "      <td>0</td>\n",
       "      <td>0</td>\n",
       "      <td>2</td>\n",
       "      <td>0</td>\n",
       "      <td>2</td>\n",
       "      <td>0</td>\n",
       "      <td>0</td>\n",
       "      <td>0</td>\n",
       "      <td>20.0</td>\n",
       "      <td>60.000000</td>\n",
       "      <td>60</td>\n",
       "      <td>60</td>\n",
       "      <td>2.0</td>\n",
       "      <td>241.0</td>\n",
       "      <td>0</td>\n",
       "      <td>0</td>\n",
       "      <td>0</td>\n",
       "      <td>0</td>\n",
       "      <td>0</td>\n",
       "      <td>0</td>\n",
       "      <td>0</td>\n",
       "      <td>0</td>\n",
       "      <td>0</td>\n",
       "      <td>0.0</td>\n",
       "      <td>0.000000</td>\n",
       "      <td>0</td>\n",
       "      <td>0</td>\n",
       "      <td>0.0</td>\n",
       "      <td>0.0</td>\n",
       "      <td>0.0</td>\n",
       "    </tr>\n",
       "    <tr>\n",
       "      <th>2</th>\n",
       "      <td>26</td>\n",
       "      <td>26</td>\n",
       "      <td>0</td>\n",
       "      <td>0</td>\n",
       "      <td>0</td>\n",
       "      <td>1</td>\n",
       "      <td>3</td>\n",
       "      <td>1</td>\n",
       "      <td>2</td>\n",
       "      <td>6</td>\n",
       "      <td>0</td>\n",
       "      <td>6</td>\n",
       "      <td>20</td>\n",
       "      <td>0</td>\n",
       "      <td>0</td>\n",
       "      <td>0</td>\n",
       "      <td>20.0</td>\n",
       "      <td>171.0</td>\n",
       "      <td>5.2</td>\n",
       "      <td>63.0</td>\n",
       "      <td>20</td>\n",
       "      <td>20</td>\n",
       "      <td>0</td>\n",
       "      <td>0</td>\n",
       "      <td>0</td>\n",
       "      <td>1</td>\n",
       "      <td>1</td>\n",
       "      <td>3</td>\n",
       "      <td>2</td>\n",
       "      <td>6</td>\n",
       "      <td>0</td>\n",
       "      <td>6</td>\n",
       "      <td>20</td>\n",
       "      <td>0</td>\n",
       "      <td>0</td>\n",
       "      <td>0</td>\n",
       "      <td>20.0</td>\n",
       "      <td>390.2</td>\n",
       "      <td>4.0</td>\n",
       "      <td>64.0</td>\n",
       "      <td>5.0</td>\n",
       "      <td>14</td>\n",
       "      <td>2</td>\n",
       "      <td>2</td>\n",
       "      <td>0</td>\n",
       "      <td>4</td>\n",
       "      <td>12</td>\n",
       "      <td>0</td>\n",
       "      <td>0</td>\n",
       "      <td>0</td>\n",
       "      <td>20.0</td>\n",
       "      <td>204.857143</td>\n",
       "      <td>575</td>\n",
       "      <td>66</td>\n",
       "      <td>2.8</td>\n",
       "      <td>63.0</td>\n",
       "      <td>12</td>\n",
       "      <td>2</td>\n",
       "      <td>2</td>\n",
       "      <td>0</td>\n",
       "      <td>4</td>\n",
       "      <td>12</td>\n",
       "      <td>0</td>\n",
       "      <td>0</td>\n",
       "      <td>0</td>\n",
       "      <td>20.0</td>\n",
       "      <td>424.833333</td>\n",
       "      <td>1139</td>\n",
       "      <td>66</td>\n",
       "      <td>2.4</td>\n",
       "      <td>64.0</td>\n",
       "      <td>5.0</td>\n",
       "    </tr>\n",
       "    <tr>\n",
       "      <th>3</th>\n",
       "      <td>20</td>\n",
       "      <td>20</td>\n",
       "      <td>0</td>\n",
       "      <td>0</td>\n",
       "      <td>0</td>\n",
       "      <td>1</td>\n",
       "      <td>1</td>\n",
       "      <td>3</td>\n",
       "      <td>2</td>\n",
       "      <td>6</td>\n",
       "      <td>0</td>\n",
       "      <td>6</td>\n",
       "      <td>20</td>\n",
       "      <td>0</td>\n",
       "      <td>0</td>\n",
       "      <td>0</td>\n",
       "      <td>20.0</td>\n",
       "      <td>390.2</td>\n",
       "      <td>4.0</td>\n",
       "      <td>64.0</td>\n",
       "      <td>26</td>\n",
       "      <td>26</td>\n",
       "      <td>0</td>\n",
       "      <td>0</td>\n",
       "      <td>0</td>\n",
       "      <td>1</td>\n",
       "      <td>3</td>\n",
       "      <td>1</td>\n",
       "      <td>2</td>\n",
       "      <td>6</td>\n",
       "      <td>0</td>\n",
       "      <td>6</td>\n",
       "      <td>20</td>\n",
       "      <td>0</td>\n",
       "      <td>0</td>\n",
       "      <td>0</td>\n",
       "      <td>20.0</td>\n",
       "      <td>171.0</td>\n",
       "      <td>5.2</td>\n",
       "      <td>63.0</td>\n",
       "      <td>5.0</td>\n",
       "      <td>12</td>\n",
       "      <td>2</td>\n",
       "      <td>2</td>\n",
       "      <td>0</td>\n",
       "      <td>4</td>\n",
       "      <td>12</td>\n",
       "      <td>0</td>\n",
       "      <td>0</td>\n",
       "      <td>0</td>\n",
       "      <td>20.0</td>\n",
       "      <td>424.833333</td>\n",
       "      <td>1139</td>\n",
       "      <td>66</td>\n",
       "      <td>2.4</td>\n",
       "      <td>64.0</td>\n",
       "      <td>14</td>\n",
       "      <td>2</td>\n",
       "      <td>2</td>\n",
       "      <td>0</td>\n",
       "      <td>4</td>\n",
       "      <td>12</td>\n",
       "      <td>0</td>\n",
       "      <td>0</td>\n",
       "      <td>0</td>\n",
       "      <td>20.0</td>\n",
       "      <td>204.857143</td>\n",
       "      <td>575</td>\n",
       "      <td>66</td>\n",
       "      <td>2.8</td>\n",
       "      <td>63.0</td>\n",
       "      <td>5.0</td>\n",
       "    </tr>\n",
       "    <tr>\n",
       "      <th>4</th>\n",
       "      <td>26</td>\n",
       "      <td>26</td>\n",
       "      <td>0</td>\n",
       "      <td>0</td>\n",
       "      <td>0</td>\n",
       "      <td>1</td>\n",
       "      <td>3</td>\n",
       "      <td>1</td>\n",
       "      <td>2</td>\n",
       "      <td>6</td>\n",
       "      <td>0</td>\n",
       "      <td>6</td>\n",
       "      <td>20</td>\n",
       "      <td>0</td>\n",
       "      <td>0</td>\n",
       "      <td>0</td>\n",
       "      <td>20.0</td>\n",
       "      <td>171.0</td>\n",
       "      <td>5.2</td>\n",
       "      <td>63.0</td>\n",
       "      <td>20</td>\n",
       "      <td>20</td>\n",
       "      <td>0</td>\n",
       "      <td>0</td>\n",
       "      <td>0</td>\n",
       "      <td>1</td>\n",
       "      <td>1</td>\n",
       "      <td>3</td>\n",
       "      <td>2</td>\n",
       "      <td>6</td>\n",
       "      <td>0</td>\n",
       "      <td>6</td>\n",
       "      <td>20</td>\n",
       "      <td>0</td>\n",
       "      <td>0</td>\n",
       "      <td>0</td>\n",
       "      <td>20.0</td>\n",
       "      <td>390.2</td>\n",
       "      <td>4.0</td>\n",
       "      <td>64.0</td>\n",
       "      <td>5.0</td>\n",
       "      <td>14</td>\n",
       "      <td>2</td>\n",
       "      <td>2</td>\n",
       "      <td>0</td>\n",
       "      <td>4</td>\n",
       "      <td>12</td>\n",
       "      <td>0</td>\n",
       "      <td>0</td>\n",
       "      <td>0</td>\n",
       "      <td>20.0</td>\n",
       "      <td>204.857143</td>\n",
       "      <td>575</td>\n",
       "      <td>66</td>\n",
       "      <td>2.8</td>\n",
       "      <td>63.0</td>\n",
       "      <td>12</td>\n",
       "      <td>2</td>\n",
       "      <td>2</td>\n",
       "      <td>0</td>\n",
       "      <td>4</td>\n",
       "      <td>12</td>\n",
       "      <td>0</td>\n",
       "      <td>0</td>\n",
       "      <td>0</td>\n",
       "      <td>20.0</td>\n",
       "      <td>424.833333</td>\n",
       "      <td>1139</td>\n",
       "      <td>66</td>\n",
       "      <td>2.4</td>\n",
       "      <td>64.0</td>\n",
       "      <td>5.0</td>\n",
       "    </tr>\n",
       "  </tbody>\n",
       "</table>\n",
       "</div>"
      ],
      "text/plain": [
       "   tt_fwd_qt_pkt  tt_fwd_qt_pkt_tcp  tt_fwd_qt_pkt_udp  tt_fwd_qt_pkt_icmp  \\\n",
       "0              3                  3                  0                   0   \n",
       "1              4                  4                  0                   0   \n",
       "2             26                 26                  0                   0   \n",
       "3             20                 20                  0                   0   \n",
       "4             26                 26                  0                   0   \n",
       "\n",
       "   tt_fwd_qt_pkt_ip  tt_fwd_qt_prtcl  tt_fwd_qt_src_prt  tt_fwd_qt_dst_prt  \\\n",
       "0                 0                1                  1                  2   \n",
       "1                 0                1                  1                  2   \n",
       "2                 0                1                  3                  1   \n",
       "3                 0                1                  1                  3   \n",
       "4                 0                1                  3                  1   \n",
       "\n",
       "   tt_fwd_qt_fin_fl  tt_fwd_qt_syn_fl  tt_fwd_qt_res_fl  tt_fwd_qt_psh_fl  \\\n",
       "0                 0                 0                 3                 0   \n",
       "1                 0                 0                 4                 0   \n",
       "2                 2                 6                 0                 6   \n",
       "3                 2                 6                 0                 6   \n",
       "4                 2                 6                 0                 6   \n",
       "\n",
       "   tt_fwd_qt_ack_fl  tt_fwd_qt_urg_fl  tt_fwd_qt_ecn_fl  tt_fwd_qt_cwr_fl  \\\n",
       "0                 3                 0                 0                 0   \n",
       "1                 4                 0                 0                 0   \n",
       "2                20                 0                 0                 0   \n",
       "3                20                 0                 0                 0   \n",
       "4                20                 0                 0                 0   \n",
       "\n",
       "   tt_fwd_avg_hdr_len  tt_fwd_avg_pkt_len  tt_fwd_frq_pkt  tt_fwd_avg_ttl  \\\n",
       "0                20.0                60.0             3.0           241.0   \n",
       "1                20.0                60.0             4.0           241.0   \n",
       "2                20.0               171.0             5.2            63.0   \n",
       "3                20.0               390.2             4.0            64.0   \n",
       "4                20.0               171.0             5.2            63.0   \n",
       "\n",
       "   tt_bck_qt_pkt  tt_bck_qt_pkt_tcp  tt_bck_qt_pkt_udp  tt_bck_qt_pkt_icmp  \\\n",
       "0              0                  0                  0                   0   \n",
       "1              0                  0                  0                   0   \n",
       "2             20                 20                  0                   0   \n",
       "3             26                 26                  0                   0   \n",
       "4             20                 20                  0                   0   \n",
       "\n",
       "   tt_bck_qt_pkt_ip  tt_bck_qt_prtcl  tt_bck_qt_src_prt  tt_bck_qt_dst_prt  \\\n",
       "0                 0                0                  0                  0   \n",
       "1                 0                0                  0                  0   \n",
       "2                 0                1                  1                  3   \n",
       "3                 0                1                  3                  1   \n",
       "4                 0                1                  1                  3   \n",
       "\n",
       "   tt_bck_qt_fin_fl  tt_bck_qt_syn_fl  tt_bck_qt_res_fl  tt_bck_qt_psh_fl  \\\n",
       "0                 0                 0                 0                 0   \n",
       "1                 0                 0                 0                 0   \n",
       "2                 2                 6                 0                 6   \n",
       "3                 2                 6                 0                 6   \n",
       "4                 2                 6                 0                 6   \n",
       "\n",
       "   tt_bck_qt_ack_fl  tt_bck_qt_urg_fl  tt_bck_qt_ecn_fl  tt_bck_qt_cwr_fl  \\\n",
       "0                 0                 0                 0                 0   \n",
       "1                 0                 0                 0                 0   \n",
       "2                20                 0                 0                 0   \n",
       "3                20                 0                 0                 0   \n",
       "4                20                 0                 0                 0   \n",
       "\n",
       "   tt_bck_avg_hdr_len  tt_bck_avg_pkt_len  tt_bck_frq_pkt  tt_bck_avg_ttl  \\\n",
       "0                 0.0                 0.0             0.0             0.0   \n",
       "1                 0.0                 0.0             0.0             0.0   \n",
       "2                20.0               390.2             4.0            64.0   \n",
       "3                20.0               171.0             5.2            63.0   \n",
       "4                20.0               390.2             4.0            64.0   \n",
       "\n",
       "   tt_tm_dur_s  ft_fwd_qt_pkt  ft_fwd_qt_fin_fl  ft_fwd_qt_syn_fl  \\\n",
       "0          1.0              2                 0                 0   \n",
       "1          1.0              2                 0                 0   \n",
       "2          5.0             14                 2                 2   \n",
       "3          5.0             12                 2                 2   \n",
       "4          5.0             14                 2                 2   \n",
       "\n",
       "   ft_fwd_qt_res_fl  ft_fwd_qt_psh_fl  ft_fwd_qt_ack_fl  ft_fwd_qt_urg_fl  \\\n",
       "0                 2                 0                 2                 0   \n",
       "1                 2                 0                 2                 0   \n",
       "2                 0                 4                12                 0   \n",
       "3                 0                 4                12                 0   \n",
       "4                 0                 4                12                 0   \n",
       "\n",
       "   ft_fwd_qt_ecn_fl  ft_fwd_qt_cwr_fl  ft_fwd_avg_hdr_len  ft_fwd_avg_pkt_len  \\\n",
       "0                 0                 0                20.0           60.000000   \n",
       "1                 0                 0                20.0           60.000000   \n",
       "2                 0                 0                20.0          204.857143   \n",
       "3                 0                 0                20.0          424.833333   \n",
       "4                 0                 0                20.0          204.857143   \n",
       "\n",
       "   ft_fwd_max_pkt_len  ft_fwd_min_pkt_len  ft_fwd_frq_pkt  ft_fwd_avg_ttl  \\\n",
       "0                  60                  60             2.0           241.0   \n",
       "1                  60                  60             2.0           241.0   \n",
       "2                 575                  66             2.8            63.0   \n",
       "3                1139                  66             2.4            64.0   \n",
       "4                 575                  66             2.8            63.0   \n",
       "\n",
       "   ft_bck_qt_pkt  ft_bck_qt_fin_fl  ft_bck_qt_syn_fl  ft_bck_qt_res_fl  \\\n",
       "0              0                 0                 0                 0   \n",
       "1              0                 0                 0                 0   \n",
       "2             12                 2                 2                 0   \n",
       "3             14                 2                 2                 0   \n",
       "4             12                 2                 2                 0   \n",
       "\n",
       "   ft_bck_qt_psh_fl  ft_bck_qt_ack_fl  ft_bck_qt_urg_fl  ft_bck_qt_ecn_fl  \\\n",
       "0                 0                 0                 0                 0   \n",
       "1                 0                 0                 0                 0   \n",
       "2                 4                12                 0                 0   \n",
       "3                 4                12                 0                 0   \n",
       "4                 4                12                 0                 0   \n",
       "\n",
       "   ft_bck_qt_cwr_fl  ft_bck_avg_hdr_len  ft_bck_avg_pkt_len  \\\n",
       "0                 0                 0.0            0.000000   \n",
       "1                 0                 0.0            0.000000   \n",
       "2                 0                20.0          424.833333   \n",
       "3                 0                20.0          204.857143   \n",
       "4                 0                20.0          424.833333   \n",
       "\n",
       "   ft_bck_max_pkt_len  ft_bck_min_pkt_len  ft_bck_frq_pkt  ft_bck_avg_ttl  \\\n",
       "0                   0                   0             0.0             0.0   \n",
       "1                   0                   0             0.0             0.0   \n",
       "2                1139                  66             2.4            64.0   \n",
       "3                 575                  66             2.8            63.0   \n",
       "4                1139                  66             2.4            64.0   \n",
       "\n",
       "   ft_tm_dur_s  \n",
       "0          0.0  \n",
       "1          0.0  \n",
       "2          5.0  \n",
       "3          5.0  \n",
       "4          5.0  "
      ]
     },
     "execution_count": 19,
     "metadata": {},
     "output_type": "execute_result"
    }
   ],
   "source": [
    "X_train.head()"
   ]
  },
  {
   "cell_type": "code",
   "execution_count": 20,
   "metadata": {},
   "outputs": [
    {
     "data": {
      "text/plain": [
       "0    0\n",
       "1    0\n",
       "2    1\n",
       "3    1\n",
       "4    1\n",
       "Name: attack, dtype: int64"
      ]
     },
     "execution_count": 20,
     "metadata": {},
     "output_type": "execute_result"
    }
   ],
   "source": [
    "y_train.head()"
   ]
  },
  {
   "cell_type": "markdown",
   "metadata": {},
   "source": [
    "# First Model"
   ]
  },
  {
   "cell_type": "markdown",
   "metadata": {},
   "source": [
    "## Training\n",
    "\n",
    "A simple decision tree with max depth 3."
   ]
  },
  {
   "cell_type": "code",
   "execution_count": 21,
   "metadata": {},
   "outputs": [],
   "source": [
    "clf = DecisionTreeClassifier(max_depth=3)"
   ]
  },
  {
   "cell_type": "code",
   "execution_count": 22,
   "metadata": {},
   "outputs": [
    {
     "data": {
      "text/plain": [
       "DecisionTreeClassifier(max_depth=3)"
      ]
     },
     "execution_count": 22,
     "metadata": {},
     "output_type": "execute_result"
    }
   ],
   "source": [
    "clf.fit(X_train, y_train)"
   ]
  },
  {
   "cell_type": "markdown",
   "metadata": {},
   "source": [
    "## Performance metrics"
   ]
  },
  {
   "cell_type": "markdown",
   "metadata": {},
   "source": [
    "### ROC AUC"
   ]
  },
  {
   "cell_type": "code",
   "execution_count": 23,
   "metadata": {},
   "outputs": [],
   "source": [
    "y_train_pred = clf.predict_proba(X_train)[:, 1]\n",
    "y_valid_pred = clf.predict_proba(X_valid)[:, 1]"
   ]
  },
  {
   "cell_type": "code",
   "execution_count": 24,
   "metadata": {},
   "outputs": [
    {
     "name": "stdout",
     "output_type": "stream",
     "text": [
      "ROC AUC Score on train: 0.9999989114258465\n",
      "ROC AUC Score on validation: 1.0\n"
     ]
    }
   ],
   "source": [
    "auc_train = roc_auc_score(y_train, y_train_pred)\n",
    "auc_valid = roc_auc_score(y_valid, y_valid_pred)\n",
    "print(f'ROC AUC Score on train: {auc_train}')\n",
    "print(f'ROC AUC Score on validation: {auc_valid}')"
   ]
  },
  {
   "cell_type": "markdown",
   "metadata": {},
   "source": [
    "### Cohen Kappa"
   ]
  },
  {
   "cell_type": "code",
   "execution_count": 25,
   "metadata": {},
   "outputs": [],
   "source": [
    "y_train_pred = clf.predict(X_train)\n",
    "y_valid_pred = clf.predict(X_valid)"
   ]
  },
  {
   "cell_type": "code",
   "execution_count": 26,
   "metadata": {},
   "outputs": [
    {
     "name": "stdout",
     "output_type": "stream",
     "text": [
      "Cohen Kappa on train: 0.99941628348397\n",
      "Cohen Kappa on validation: 1.0\n"
     ]
    }
   ],
   "source": [
    "ck_train = cohen_kappa_score(y_train, y_train_pred)\n",
    "ck_valid = cohen_kappa_score(y_valid, y_valid_pred)\n",
    "print(f'Cohen Kappa on train: {ck_train}')\n",
    "print(f'Cohen Kappa on validation: {ck_valid}')"
   ]
  },
  {
   "cell_type": "markdown",
   "metadata": {},
   "source": [
    "### Confusion Matrix"
   ]
  },
  {
   "cell_type": "code",
   "execution_count": 27,
   "metadata": {},
   "outputs": [
    {
     "data": {
      "text/plain": [
       "Text(0.5, 24.0, 'Predicted')"
      ]
     },
     "execution_count": 27,
     "metadata": {},
     "output_type": "execute_result"
    },
    {
     "data": {
      "image/png": "[encoded data removed]",
      "text/plain": [
       "<Figure size 432x360 with 2 Axes>"
      ]
     },
     "metadata": {
      "needs_background": "light"
     },
     "output_type": "display_data"
    }
   ],
   "source": [
    "plt.figure(figsize=(6, 5))\n",
    "sns.heatmap(confusion_matrix(y_train, y_train_pred), annot=True, fmt='')\n",
    "plt.ylabel('True')\n",
    "plt.xlabel('Predicted')"
   ]
  },
  {
   "cell_type": "code",
   "execution_count": 28,
   "metadata": {},
   "outputs": [
    {
     "data": {
      "text/plain": [
       "Text(0.5, 24.0, 'Predicted')"
      ]
     },
     "execution_count": 28,
     "metadata": {},
     "output_type": "execute_result"
    },
    {
     "data": {
      "image/png": "[encoded data removed]",
      "text/plain": [
       "<Figure size 432x360 with 2 Axes>"
      ]
     },
     "metadata": {
      "needs_background": "light"
     },
     "output_type": "display_data"
    }
   ],
   "source": [
    "plt.figure(figsize=(6, 5))\n",
    "sns.heatmap(confusion_matrix(y_valid, y_valid_pred), annot=True, fmt='')\n",
    "plt.ylabel('True')\n",
    "plt.xlabel('Predicted')"
   ]
  },
  {
   "cell_type": "markdown",
   "metadata": {},
   "source": [
    "## Plotting tree"
   ]
  },
  {
   "cell_type": "code",
   "execution_count": 29,
   "metadata": {},
   "outputs": [
    {
     "data": {
      "text/plain": [
       "''"
      ]
     },
     "execution_count": 29,
     "metadata": {},
     "output_type": "execute_result"
    },
    {
     "data": {
      "image/png": "[encoded data removed]",
      "text/plain": [
       "<Figure size 1152x576 with 1 Axes>"
      ]
     },
     "metadata": {
      "needs_background": "light"
     },
     "output_type": "display_data"
    }
   ],
   "source": [
    "plt.figure(figsize=(16, 8))\n",
    "plot_tree(clf, feature_names=X_train.columns, fontsize=10)\n",
    ";"
   ]
  },
  {
   "cell_type": "markdown",
   "metadata": {},
   "source": [
    "# Second Model"
   ]
  },
  {
   "cell_type": "markdown",
   "metadata": {},
   "source": [
    "## Removing most important feature and retraining"
   ]
  },
  {
   "cell_type": "code",
   "execution_count": 30,
   "metadata": {},
   "outputs": [
    {
     "data": {
      "text/plain": [
       "DecisionTreeClassifier(max_depth=3)"
      ]
     },
     "execution_count": 30,
     "metadata": {},
     "output_type": "execute_result"
    }
   ],
   "source": [
    "del X_train['tt_bck_qt_prtcl']\n",
    "del X_valid['tt_bck_qt_prtcl']\n",
    "clf.fit(X_train, y_train)"
   ]
  },
  {
   "cell_type": "markdown",
   "metadata": {},
   "source": [
    "## Performance metrics"
   ]
  },
  {
   "cell_type": "markdown",
   "metadata": {},
   "source": [
    "### ROC AUC"
   ]
  },
  {
   "cell_type": "code",
   "execution_count": 31,
   "metadata": {},
   "outputs": [],
   "source": [
    "y_train_pred = clf.predict_proba(X_train)[:, 1]\n",
    "y_valid_pred = clf.predict_proba(X_valid)[:, 1]"
   ]
  },
  {
   "cell_type": "code",
   "execution_count": 32,
   "metadata": {},
   "outputs": [
    {
     "name": "stdout",
     "output_type": "stream",
     "text": [
      "ROC AUC Score on train: 0.9999989114258465\n",
      "ROC AUC Score on validation: 1.0\n"
     ]
    }
   ],
   "source": [
    "auc_train = roc_auc_score(y_train, y_train_pred)\n",
    "auc_valid = roc_auc_score(y_valid, y_valid_pred)\n",
    "print(f'ROC AUC Score on train: {auc_train}')\n",
    "print(f'ROC AUC Score on validation: {auc_valid}')"
   ]
  },
  {
   "cell_type": "markdown",
   "metadata": {},
   "source": [
    "### Cohen Kappa"
   ]
  },
  {
   "cell_type": "code",
   "execution_count": 33,
   "metadata": {},
   "outputs": [],
   "source": [
    "y_train_pred = clf.predict(X_train)\n",
    "y_valid_pred = clf.predict(X_valid)"
   ]
  },
  {
   "cell_type": "code",
   "execution_count": 34,
   "metadata": {},
   "outputs": [
    {
     "name": "stdout",
     "output_type": "stream",
     "text": [
      "Cohen Kappa on train: 0.99941628348397\n",
      "Cohen Kappa on validation: 1.0\n"
     ]
    }
   ],
   "source": [
    "ck_train = cohen_kappa_score(y_train, y_train_pred)\n",
    "ck_valid = cohen_kappa_score(y_valid, y_valid_pred)\n",
    "print(f'Cohen Kappa on train: {ck_train}')\n",
    "print(f'Cohen Kappa on validation: {ck_valid}')"
   ]
  },
  {
   "cell_type": "markdown",
   "metadata": {},
   "source": [
    "### Confusion Matrix"
   ]
  },
  {
   "cell_type": "code",
   "execution_count": 35,
   "metadata": {},
   "outputs": [
    {
     "data": {
      "text/plain": [
       "Text(0.5, 24.0, 'Predicted')"
      ]
     },
     "execution_count": 35,
     "metadata": {},
     "output_type": "execute_result"
    },
    {
     "data": {
      "image/png": "[encoded data removed]",
      "text/plain": [
       "<Figure size 432x360 with 2 Axes>"
      ]
     },
     "metadata": {
      "needs_background": "light"
     },
     "output_type": "display_data"
    }
   ],
   "source": [
    "plt.figure(figsize=(6, 5))\n",
    "sns.heatmap(confusion_matrix(y_train, y_train_pred), annot=True, fmt='')\n",
    "plt.ylabel('True')\n",
    "plt.xlabel('Predicted')"
   ]
  },
  {
   "cell_type": "code",
   "execution_count": 36,
   "metadata": {},
   "outputs": [
    {
     "data": {
      "text/plain": [
       "Text(0.5, 24.0, 'Predicted')"
      ]
     },
     "execution_count": 36,
     "metadata": {},
     "output_type": "execute_result"
    },
    {
     "data": {
      "image/png": "[encoded data removed]",
      "text/plain": [
       "<Figure size 432x360 with 2 Axes>"
      ]
     },
     "metadata": {
      "needs_background": "light"
     },
     "output_type": "display_data"
    }
   ],
   "source": [
    "plt.figure(figsize=(6, 5))\n",
    "sns.heatmap(confusion_matrix(y_valid, y_valid_pred), annot=True, fmt='')\n",
    "plt.ylabel('True')\n",
    "plt.xlabel('Predicted')"
   ]
  },
  {
   "cell_type": "markdown",
   "metadata": {},
   "source": [
    "## Plotting tree"
   ]
  },
  {
   "cell_type": "code",
   "execution_count": 37,
   "metadata": {},
   "outputs": [
    {
     "data": {
      "text/plain": [
       "''"
      ]
     },
     "execution_count": 37,
     "metadata": {},
     "output_type": "execute_result"
    },
    {
     "data": {
      "image/png": "[encoded data removed]",
      "text/plain": [
       "<Figure size 1152x576 with 1 Axes>"
      ]
     },
     "metadata": {
      "needs_background": "light"
     },
     "output_type": "display_data"
    }
   ],
   "source": [
    "plt.figure(figsize=(16, 8))\n",
    "plot_tree(clf, feature_names=X_train.columns, fontsize=10)\n",
    ";"
   ]
  },
  {
   "cell_type": "markdown",
   "metadata": {},
   "source": [
    "# Third Model"
   ]
  },
  {
   "cell_type": "markdown",
   "metadata": {},
   "source": [
    "## Removing most important feature and retraining"
   ]
  },
  {
   "cell_type": "code",
   "execution_count": 38,
   "metadata": {},
   "outputs": [
    {
     "data": {
      "text/plain": [
       "DecisionTreeClassifier(max_depth=3)"
      ]
     },
     "execution_count": 38,
     "metadata": {},
     "output_type": "execute_result"
    }
   ],
   "source": [
    "del X_train['tt_fwd_qt_prtcl']\n",
    "del X_valid['tt_fwd_qt_prtcl']\n",
    "clf.fit(X_train, y_train)"
   ]
  },
  {
   "cell_type": "markdown",
   "metadata": {},
   "source": [
    "## Performance metrics"
   ]
  },
  {
   "cell_type": "markdown",
   "metadata": {},
   "source": [
    "### ROC AUC"
   ]
  },
  {
   "cell_type": "code",
   "execution_count": 39,
   "metadata": {},
   "outputs": [],
   "source": [
    "y_train_pred = clf.predict_proba(X_train)[:, 1]\n",
    "y_valid_pred = clf.predict_proba(X_valid)[:, 1]"
   ]
  },
  {
   "cell_type": "code",
   "execution_count": 40,
   "metadata": {},
   "outputs": [
    {
     "name": "stdout",
     "output_type": "stream",
     "text": [
      "ROC AUC Score on train: 0.9999980405665237\n",
      "ROC AUC Score on validation: 1.0\n"
     ]
    }
   ],
   "source": [
    "auc_train = roc_auc_score(y_train, y_train_pred)\n",
    "auc_valid = roc_auc_score(y_valid, y_valid_pred)\n",
    "print(f'ROC AUC Score on train: {auc_train}')\n",
    "print(f'ROC AUC Score on validation: {auc_valid}')"
   ]
  },
  {
   "cell_type": "markdown",
   "metadata": {},
   "source": [
    "### Cohen Kappa"
   ]
  },
  {
   "cell_type": "code",
   "execution_count": 41,
   "metadata": {},
   "outputs": [],
   "source": [
    "y_train_pred = clf.predict(X_train)\n",
    "y_valid_pred = clf.predict(X_valid)"
   ]
  },
  {
   "cell_type": "code",
   "execution_count": 42,
   "metadata": {},
   "outputs": [
    {
     "name": "stdout",
     "output_type": "stream",
     "text": [
      "Cohen Kappa on train: 0.9989497779810421\n",
      "Cohen Kappa on validation: 1.0\n"
     ]
    }
   ],
   "source": [
    "ck_train = cohen_kappa_score(y_train, y_train_pred)\n",
    "ck_valid = cohen_kappa_score(y_valid, y_valid_pred)\n",
    "print(f'Cohen Kappa on train: {ck_train}')\n",
    "print(f'Cohen Kappa on validation: {ck_valid}')"
   ]
  },
  {
   "cell_type": "markdown",
   "metadata": {},
   "source": [
    "### Confusion Matrix"
   ]
  },
  {
   "cell_type": "code",
   "execution_count": 43,
   "metadata": {},
   "outputs": [
    {
     "data": {
      "text/plain": [
       "Text(0.5, 24.0, 'Predicted')"
      ]
     },
     "execution_count": 43,
     "metadata": {},
     "output_type": "execute_result"
    },
    {
     "data": {
      "image/png": "[encoded data removed]",
      "text/plain": [
       "<Figure size 432x360 with 2 Axes>"
      ]
     },
     "metadata": {
      "needs_background": "light"
     },
     "output_type": "display_data"
    }
   ],
   "source": [
    "plt.figure(figsize=(6, 5))\n",
    "sns.heatmap(confusion_matrix(y_train, y_train_pred), annot=True, fmt='')\n",
    "plt.ylabel('True')\n",
    "plt.xlabel('Predicted')"
   ]
  },
  {
   "cell_type": "code",
   "execution_count": 44,
   "metadata": {},
   "outputs": [
    {
     "data": {
      "text/plain": [
       "Text(0.5, 24.0, 'Predicted')"
      ]
     },
     "execution_count": 44,
     "metadata": {},
     "output_type": "execute_result"
    },
    {
     "data": {
      "image/png": "[encoded data removed]",
      "text/plain": [
       "<Figure size 432x360 with 2 Axes>"
      ]
     },
     "metadata": {
      "needs_background": "light"
     },
     "output_type": "display_data"
    }
   ],
   "source": [
    "plt.figure(figsize=(6, 5))\n",
    "sns.heatmap(confusion_matrix(y_valid, y_valid_pred), annot=True, fmt='')\n",
    "plt.ylabel('True')\n",
    "plt.xlabel('Predicted')"
   ]
  },
  {
   "cell_type": "markdown",
   "metadata": {},
   "source": [
    "## Plotting tree"
   ]
  },
  {
   "cell_type": "code",
   "execution_count": 45,
   "metadata": {},
   "outputs": [
    {
     "data": {
      "text/plain": [
       "''"
      ]
     },
     "execution_count": 45,
     "metadata": {},
     "output_type": "execute_result"
    },
    {
     "data": {
      "image/png": "[encoded data removed]",
      "text/plain": [
       "<Figure size 1152x576 with 1 Axes>"
      ]
     },
     "metadata": {
      "needs_background": "light"
     },
     "output_type": "display_data"
    }
   ],
   "source": [
    "plt.figure(figsize=(16, 8))\n",
    "plot_tree(clf, feature_names=X_train.columns, fontsize=10)\n",
    ";"
   ]
  },
  {
   "cell_type": "markdown",
   "metadata": {},
   "source": [
    "# Fourth Model"
   ]
  },
  {
   "cell_type": "markdown",
   "metadata": {},
   "source": [
    "## Removing most important feature and retraining\n",
    "I will also remove the forward variable too"
   ]
  },
  {
   "cell_type": "code",
   "execution_count": 46,
   "metadata": {},
   "outputs": [
    {
     "data": {
      "text/plain": [
       "DecisionTreeClassifier(max_depth=3)"
      ]
     },
     "execution_count": 46,
     "metadata": {},
     "output_type": "execute_result"
    }
   ],
   "source": [
    "del X_train['tt_bck_qt_pkt_icmp']\n",
    "del X_valid['tt_bck_qt_pkt_icmp']\n",
    "del X_train['tt_fwd_qt_pkt_icmp']\n",
    "del X_valid['tt_fwd_qt_pkt_icmp']\n",
    "clf.fit(X_train, y_train)"
   ]
  },
  {
   "cell_type": "markdown",
   "metadata": {},
   "source": [
    "## Performance metrics"
   ]
  },
  {
   "cell_type": "markdown",
   "metadata": {},
   "source": [
    "### ROC AUC"
   ]
  },
  {
   "cell_type": "code",
   "execution_count": 47,
   "metadata": {},
   "outputs": [],
   "source": [
    "y_train_pred = clf.predict_proba(X_train)[:, 1]\n",
    "y_valid_pred = clf.predict_proba(X_valid)[:, 1]"
   ]
  },
  {
   "cell_type": "code",
   "execution_count": 48,
   "metadata": {},
   "outputs": [
    {
     "name": "stdout",
     "output_type": "stream",
     "text": [
      "ROC AUC Score on train: 0.9999988090847856\n",
      "ROC AUC Score on validation: 1.0\n"
     ]
    }
   ],
   "source": [
    "auc_train = roc_auc_score(y_train, y_train_pred)\n",
    "auc_valid = roc_auc_score(y_valid, y_valid_pred)\n",
    "print(f'ROC AUC Score on train: {auc_train}')\n",
    "print(f'ROC AUC Score on validation: {auc_valid}')"
   ]
  },
  {
   "cell_type": "markdown",
   "metadata": {},
   "source": [
    "### Cohen Kappa"
   ]
  },
  {
   "cell_type": "code",
   "execution_count": 49,
   "metadata": {},
   "outputs": [],
   "source": [
    "y_train_pred = clf.predict(X_train)\n",
    "y_valid_pred = clf.predict(X_valid)"
   ]
  },
  {
   "cell_type": "code",
   "execution_count": 50,
   "metadata": {},
   "outputs": [
    {
     "name": "stdout",
     "output_type": "stream",
     "text": [
      "Cohen Kappa on train: 0.9985583468383286\n",
      "Cohen Kappa on validation: 0.9958736697819617\n"
     ]
    }
   ],
   "source": [
    "ck_train = cohen_kappa_score(y_train, y_train_pred)\n",
    "ck_valid = cohen_kappa_score(y_valid, y_valid_pred)\n",
    "print(f'Cohen Kappa on train: {ck_train}')\n",
    "print(f'Cohen Kappa on validation: {ck_valid}')"
   ]
  },
  {
   "cell_type": "markdown",
   "metadata": {},
   "source": [
    "### Confusion Matrix"
   ]
  },
  {
   "cell_type": "code",
   "execution_count": 51,
   "metadata": {},
   "outputs": [
    {
     "data": {
      "text/plain": [
       "Text(0.5, 24.0, 'Predicted')"
      ]
     },
     "execution_count": 51,
     "metadata": {},
     "output_type": "execute_result"
    },
    {
     "data": {
      "image/png": "[encoded data removed]",
      "text/plain": [
       "<Figure size 432x360 with 2 Axes>"
      ]
     },
     "metadata": {
      "needs_background": "light"
     },
     "output_type": "display_data"
    }
   ],
   "source": [
    "plt.figure(figsize=(6, 5))\n",
    "sns.heatmap(confusion_matrix(y_train, y_train_pred), annot=True, fmt='')\n",
    "plt.ylabel('True')\n",
    "plt.xlabel('Predicted')"
   ]
  },
  {
   "cell_type": "code",
   "execution_count": 52,
   "metadata": {},
   "outputs": [
    {
     "data": {
      "text/plain": [
       "Text(0.5, 24.0, 'Predicted')"
      ]
     },
     "execution_count": 52,
     "metadata": {},
     "output_type": "execute_result"
    },
    {
     "data": {
      "image/png": "[encoded data removed]",
      "text/plain": [
       "<Figure size 432x360 with 2 Axes>"
      ]
     },
     "metadata": {
      "needs_background": "light"
     },
     "output_type": "display_data"
    }
   ],
   "source": [
    "plt.figure(figsize=(6, 5))\n",
    "sns.heatmap(confusion_matrix(y_valid, y_valid_pred), annot=True, fmt='')\n",
    "plt.ylabel('True')\n",
    "plt.xlabel('Predicted')"
   ]
  },
  {
   "cell_type": "markdown",
   "metadata": {},
   "source": [
    "## Plotting tree"
   ]
  },
  {
   "cell_type": "code",
   "execution_count": 53,
   "metadata": {},
   "outputs": [
    {
     "data": {
      "text/plain": [
       "''"
      ]
     },
     "execution_count": 53,
     "metadata": {},
     "output_type": "execute_result"
    },
    {
     "data": {
      "image/png": "[encoded data removed]",
      "text/plain": [
       "<Figure size 1152x576 with 1 Axes>"
      ]
     },
     "metadata": {
      "needs_background": "light"
     },
     "output_type": "display_data"
    }
   ],
   "source": [
    "plt.figure(figsize=(16, 8))\n",
    "plot_tree(clf, feature_names=X_train.columns, fontsize=10)\n",
    ";"
   ]
  }
 ],
 "metadata": {
  "kernelspec": {
   "display_name": "Python 3",
   "language": "python",
   "name": "python3"
  },
  "language_info": {
   "codemirror_mode": {
    "name": "ipython",
    "version": 3
   },
   "file_extension": ".py",
   "mimetype": "text/x-python",
   "name": "python",
   "nbconvert_exporter": "python",
   "pygments_lexer": "ipython3",
   "version": "3.8.2"
  }
 },
 "nbformat": 4,
 "nbformat_minor": 4
}
